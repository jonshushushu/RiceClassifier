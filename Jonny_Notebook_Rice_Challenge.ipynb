{
  "cells": [
    {
      "cell_type": "markdown",
      "id": "2cb152d6-21e5-46c6-931d-11e99e6a6798",
      "metadata": {
        "id": "2cb152d6-21e5-46c6-931d-11e99e6a6798"
      },
      "source": [
        "## Load In Dependencies"
      ]
    },
    {
      "cell_type": "code",
      "source": [
        "!pip install ipyleaflet"
      ],
      "metadata": {
        "colab": {
          "base_uri": "https://localhost:8080/"
        },
        "id": "tJrOFm9lnK7i",
        "outputId": "ce6bc385-9a60-4117-e502-e3bce5966791"
      },
      "id": "tJrOFm9lnK7i",
      "execution_count": null,
      "outputs": [
        {
          "output_type": "stream",
          "name": "stdout",
          "text": [
            "Looking in indexes: https://pypi.org/simple, https://us-python.pkg.dev/colab-wheels/public/simple/\n",
            "Requirement already satisfied: ipyleaflet in /usr/local/lib/python3.9/dist-packages (0.17.2)\n",
            "Requirement already satisfied: xyzservices>=2021.8.1 in /usr/local/lib/python3.9/dist-packages (from ipyleaflet) (2023.2.0)\n",
            "Requirement already satisfied: ipywidgets<9,>=7.6.0 in /usr/local/lib/python3.9/dist-packages (from ipyleaflet) (7.7.1)\n",
            "Requirement already satisfied: traittypes<3,>=0.2.1 in /usr/local/lib/python3.9/dist-packages (from ipyleaflet) (0.2.1)\n",
            "Requirement already satisfied: branca>=0.5.0 in /usr/local/lib/python3.9/dist-packages (from ipyleaflet) (0.6.0)\n",
            "Requirement already satisfied: jinja2 in /usr/local/lib/python3.9/dist-packages (from branca>=0.5.0->ipyleaflet) (3.1.2)\n",
            "Requirement already satisfied: ipython-genutils~=0.2.0 in /usr/local/lib/python3.9/dist-packages (from ipywidgets<9,>=7.6.0->ipyleaflet) (0.2.0)\n",
            "Requirement already satisfied: traitlets>=4.3.1 in /usr/local/lib/python3.9/dist-packages (from ipywidgets<9,>=7.6.0->ipyleaflet) (5.7.1)\n",
            "Requirement already satisfied: jupyterlab-widgets>=1.0.0 in /usr/local/lib/python3.9/dist-packages (from ipywidgets<9,>=7.6.0->ipyleaflet) (3.0.7)\n",
            "Requirement already satisfied: widgetsnbextension~=3.6.0 in /usr/local/lib/python3.9/dist-packages (from ipywidgets<9,>=7.6.0->ipyleaflet) (3.6.4)\n",
            "Requirement already satisfied: ipykernel>=4.5.1 in /usr/local/lib/python3.9/dist-packages (from ipywidgets<9,>=7.6.0->ipyleaflet) (5.5.6)\n",
            "Requirement already satisfied: ipython>=4.0.0 in /usr/local/lib/python3.9/dist-packages (from ipywidgets<9,>=7.6.0->ipyleaflet) (7.34.0)\n",
            "Requirement already satisfied: tornado>=4.2 in /usr/local/lib/python3.9/dist-packages (from ipykernel>=4.5.1->ipywidgets<9,>=7.6.0->ipyleaflet) (6.2)\n",
            "Requirement already satisfied: jupyter-client in /usr/local/lib/python3.9/dist-packages (from ipykernel>=4.5.1->ipywidgets<9,>=7.6.0->ipyleaflet) (6.1.12)\n",
            "Requirement already satisfied: jedi>=0.16 in /usr/local/lib/python3.9/dist-packages (from ipython>=4.0.0->ipywidgets<9,>=7.6.0->ipyleaflet) (0.18.2)\n",
            "Requirement already satisfied: pickleshare in /usr/local/lib/python3.9/dist-packages (from ipython>=4.0.0->ipywidgets<9,>=7.6.0->ipyleaflet) (0.7.5)\n",
            "Requirement already satisfied: pexpect>4.3 in /usr/local/lib/python3.9/dist-packages (from ipython>=4.0.0->ipywidgets<9,>=7.6.0->ipyleaflet) (4.8.0)\n",
            "Requirement already satisfied: setuptools>=18.5 in /usr/local/lib/python3.9/dist-packages (from ipython>=4.0.0->ipywidgets<9,>=7.6.0->ipyleaflet) (67.6.1)\n",
            "Requirement already satisfied: decorator in /usr/local/lib/python3.9/dist-packages (from ipython>=4.0.0->ipywidgets<9,>=7.6.0->ipyleaflet) (4.4.2)\n",
            "Requirement already satisfied: pygments in /usr/local/lib/python3.9/dist-packages (from ipython>=4.0.0->ipywidgets<9,>=7.6.0->ipyleaflet) (2.14.0)\n",
            "Requirement already satisfied: backcall in /usr/local/lib/python3.9/dist-packages (from ipython>=4.0.0->ipywidgets<9,>=7.6.0->ipyleaflet) (0.2.0)\n",
            "Requirement already satisfied: matplotlib-inline in /usr/local/lib/python3.9/dist-packages (from ipython>=4.0.0->ipywidgets<9,>=7.6.0->ipyleaflet) (0.1.6)\n",
            "Requirement already satisfied: prompt-toolkit!=3.0.0,!=3.0.1,<3.1.0,>=2.0.0 in /usr/local/lib/python3.9/dist-packages (from ipython>=4.0.0->ipywidgets<9,>=7.6.0->ipyleaflet) (3.0.38)\n",
            "Requirement already satisfied: notebook>=4.4.1 in /usr/local/lib/python3.9/dist-packages (from widgetsnbextension~=3.6.0->ipywidgets<9,>=7.6.0->ipyleaflet) (6.3.0)\n",
            "Requirement already satisfied: MarkupSafe>=2.0 in /usr/local/lib/python3.9/dist-packages (from jinja2->branca>=0.5.0->ipyleaflet) (2.1.2)\n",
            "Requirement already satisfied: parso<0.9.0,>=0.8.0 in /usr/local/lib/python3.9/dist-packages (from jedi>=0.16->ipython>=4.0.0->ipywidgets<9,>=7.6.0->ipyleaflet) (0.8.3)\n",
            "Requirement already satisfied: nbconvert in /usr/local/lib/python3.9/dist-packages (from notebook>=4.4.1->widgetsnbextension~=3.6.0->ipywidgets<9,>=7.6.0->ipyleaflet) (6.5.4)\n",
            "Requirement already satisfied: argon2-cffi in /usr/local/lib/python3.9/dist-packages (from notebook>=4.4.1->widgetsnbextension~=3.6.0->ipywidgets<9,>=7.6.0->ipyleaflet) (21.3.0)\n",
            "Requirement already satisfied: nbformat in /usr/local/lib/python3.9/dist-packages (from notebook>=4.4.1->widgetsnbextension~=3.6.0->ipywidgets<9,>=7.6.0->ipyleaflet) (5.8.0)\n",
            "Requirement already satisfied: terminado>=0.8.3 in /usr/local/lib/python3.9/dist-packages (from notebook>=4.4.1->widgetsnbextension~=3.6.0->ipywidgets<9,>=7.6.0->ipyleaflet) (0.17.1)\n",
            "Requirement already satisfied: jupyter-core>=4.6.1 in /usr/local/lib/python3.9/dist-packages (from notebook>=4.4.1->widgetsnbextension~=3.6.0->ipywidgets<9,>=7.6.0->ipyleaflet) (5.3.0)\n",
            "Requirement already satisfied: pyzmq>=17 in /usr/local/lib/python3.9/dist-packages (from notebook>=4.4.1->widgetsnbextension~=3.6.0->ipywidgets<9,>=7.6.0->ipyleaflet) (23.2.1)\n",
            "Requirement already satisfied: prometheus-client in /usr/local/lib/python3.9/dist-packages (from notebook>=4.4.1->widgetsnbextension~=3.6.0->ipywidgets<9,>=7.6.0->ipyleaflet) (0.16.0)\n",
            "Requirement already satisfied: Send2Trash>=1.5.0 in /usr/local/lib/python3.9/dist-packages (from notebook>=4.4.1->widgetsnbextension~=3.6.0->ipywidgets<9,>=7.6.0->ipyleaflet) (1.8.0)\n",
            "Requirement already satisfied: python-dateutil>=2.1 in /usr/local/lib/python3.9/dist-packages (from jupyter-client->ipykernel>=4.5.1->ipywidgets<9,>=7.6.0->ipyleaflet) (2.8.2)\n",
            "Requirement already satisfied: ptyprocess>=0.5 in /usr/local/lib/python3.9/dist-packages (from pexpect>4.3->ipython>=4.0.0->ipywidgets<9,>=7.6.0->ipyleaflet) (0.7.0)\n",
            "Requirement already satisfied: wcwidth in /usr/local/lib/python3.9/dist-packages (from prompt-toolkit!=3.0.0,!=3.0.1,<3.1.0,>=2.0.0->ipython>=4.0.0->ipywidgets<9,>=7.6.0->ipyleaflet) (0.2.6)\n",
            "Requirement already satisfied: platformdirs>=2.5 in /usr/local/lib/python3.9/dist-packages (from jupyter-core>=4.6.1->notebook>=4.4.1->widgetsnbextension~=3.6.0->ipywidgets<9,>=7.6.0->ipyleaflet) (3.2.0)\n",
            "Requirement already satisfied: six>=1.5 in /usr/local/lib/python3.9/dist-packages (from python-dateutil>=2.1->jupyter-client->ipykernel>=4.5.1->ipywidgets<9,>=7.6.0->ipyleaflet) (1.16.0)\n",
            "Requirement already satisfied: argon2-cffi-bindings in /usr/local/lib/python3.9/dist-packages (from argon2-cffi->notebook>=4.4.1->widgetsnbextension~=3.6.0->ipywidgets<9,>=7.6.0->ipyleaflet) (21.2.0)\n",
            "Requirement already satisfied: beautifulsoup4 in /usr/local/lib/python3.9/dist-packages (from nbconvert->notebook>=4.4.1->widgetsnbextension~=3.6.0->ipywidgets<9,>=7.6.0->ipyleaflet) (4.11.2)\n",
            "Requirement already satisfied: entrypoints>=0.2.2 in /usr/local/lib/python3.9/dist-packages (from nbconvert->notebook>=4.4.1->widgetsnbextension~=3.6.0->ipywidgets<9,>=7.6.0->ipyleaflet) (0.4)\n",
            "Requirement already satisfied: defusedxml in /usr/local/lib/python3.9/dist-packages (from nbconvert->notebook>=4.4.1->widgetsnbextension~=3.6.0->ipywidgets<9,>=7.6.0->ipyleaflet) (0.7.1)\n",
            "Requirement already satisfied: jupyterlab-pygments in /usr/local/lib/python3.9/dist-packages (from nbconvert->notebook>=4.4.1->widgetsnbextension~=3.6.0->ipywidgets<9,>=7.6.0->ipyleaflet) (0.2.2)\n",
            "Requirement already satisfied: tinycss2 in /usr/local/lib/python3.9/dist-packages (from nbconvert->notebook>=4.4.1->widgetsnbextension~=3.6.0->ipywidgets<9,>=7.6.0->ipyleaflet) (1.2.1)\n",
            "Requirement already satisfied: mistune<2,>=0.8.1 in /usr/local/lib/python3.9/dist-packages (from nbconvert->notebook>=4.4.1->widgetsnbextension~=3.6.0->ipywidgets<9,>=7.6.0->ipyleaflet) (0.8.4)\n",
            "Requirement already satisfied: packaging in /usr/local/lib/python3.9/dist-packages (from nbconvert->notebook>=4.4.1->widgetsnbextension~=3.6.0->ipywidgets<9,>=7.6.0->ipyleaflet) (23.0)\n",
            "Requirement already satisfied: bleach in /usr/local/lib/python3.9/dist-packages (from nbconvert->notebook>=4.4.1->widgetsnbextension~=3.6.0->ipywidgets<9,>=7.6.0->ipyleaflet) (6.0.0)\n",
            "Requirement already satisfied: lxml in /usr/local/lib/python3.9/dist-packages (from nbconvert->notebook>=4.4.1->widgetsnbextension~=3.6.0->ipywidgets<9,>=7.6.0->ipyleaflet) (4.9.2)\n",
            "Requirement already satisfied: pandocfilters>=1.4.1 in /usr/local/lib/python3.9/dist-packages (from nbconvert->notebook>=4.4.1->widgetsnbextension~=3.6.0->ipywidgets<9,>=7.6.0->ipyleaflet) (1.5.0)\n",
            "Requirement already satisfied: nbclient>=0.5.0 in /usr/local/lib/python3.9/dist-packages (from nbconvert->notebook>=4.4.1->widgetsnbextension~=3.6.0->ipywidgets<9,>=7.6.0->ipyleaflet) (0.7.2)\n",
            "Requirement already satisfied: fastjsonschema in /usr/local/lib/python3.9/dist-packages (from nbformat->notebook>=4.4.1->widgetsnbextension~=3.6.0->ipywidgets<9,>=7.6.0->ipyleaflet) (2.16.3)\n",
            "Requirement already satisfied: jsonschema>=2.6 in /usr/local/lib/python3.9/dist-packages (from nbformat->notebook>=4.4.1->widgetsnbextension~=3.6.0->ipywidgets<9,>=7.6.0->ipyleaflet) (4.3.3)\n",
            "Requirement already satisfied: attrs>=17.4.0 in /usr/local/lib/python3.9/dist-packages (from jsonschema>=2.6->nbformat->notebook>=4.4.1->widgetsnbextension~=3.6.0->ipywidgets<9,>=7.6.0->ipyleaflet) (22.2.0)\n",
            "Requirement already satisfied: pyrsistent!=0.17.0,!=0.17.1,!=0.17.2,>=0.14.0 in /usr/local/lib/python3.9/dist-packages (from jsonschema>=2.6->nbformat->notebook>=4.4.1->widgetsnbextension~=3.6.0->ipywidgets<9,>=7.6.0->ipyleaflet) (0.19.3)\n",
            "Requirement already satisfied: cffi>=1.0.1 in /usr/local/lib/python3.9/dist-packages (from argon2-cffi-bindings->argon2-cffi->notebook>=4.4.1->widgetsnbextension~=3.6.0->ipywidgets<9,>=7.6.0->ipyleaflet) (1.15.1)\n",
            "Requirement already satisfied: soupsieve>1.2 in /usr/local/lib/python3.9/dist-packages (from beautifulsoup4->nbconvert->notebook>=4.4.1->widgetsnbextension~=3.6.0->ipywidgets<9,>=7.6.0->ipyleaflet) (2.4)\n",
            "Requirement already satisfied: webencodings in /usr/local/lib/python3.9/dist-packages (from bleach->nbconvert->notebook>=4.4.1->widgetsnbextension~=3.6.0->ipywidgets<9,>=7.6.0->ipyleaflet) (0.5.1)\n",
            "Requirement already satisfied: pycparser in /usr/local/lib/python3.9/dist-packages (from cffi>=1.0.1->argon2-cffi-bindings->argon2-cffi->notebook>=4.4.1->widgetsnbextension~=3.6.0->ipywidgets<9,>=7.6.0->ipyleaflet) (2.21)\n"
          ]
        }
      ]
    },
    {
      "cell_type": "markdown",
      "id": "c546caac-b5a5-494f-95e8-19a01e117492",
      "metadata": {
        "id": "c546caac-b5a5-494f-95e8-19a01e117492"
      },
      "source": [
        "#### Note: Environment setup\n",
        "Running this notebook requires an API key.\n",
        "\n",
        "To use your API key locally, set the environment variable <i><b>PC_SDK_SUBSCRIPTION_KEY</i></b> or use <i><b>planetary_computer.settings.set_subscription_key(<YOUR API Key>)</i></b><br>\n",
        "See <a href=\"https://planetarycomputer.microsoft.com/docs/concepts/sas/#when-an-account-is-needed\">when an account is needed for more </a>, and <a href=\"https://planetarycomputer.microsoft.com/account/request\">request</a> an account if needed."
      ]
    },
    {
      "cell_type": "code",
      "source": [
        "!pip install pystac\n",
        "!pip install pystac_client"
      ],
      "metadata": {
        "colab": {
          "base_uri": "https://localhost:8080/"
        },
        "id": "iJBqJpEYnhpb",
        "outputId": "61458205-ffc5-4d68-acbf-9fd5e996a778"
      },
      "id": "iJBqJpEYnhpb",
      "execution_count": null,
      "outputs": [
        {
          "output_type": "stream",
          "name": "stdout",
          "text": [
            "Looking in indexes: https://pypi.org/simple, https://us-python.pkg.dev/colab-wheels/public/simple/\n",
            "Requirement already satisfied: pystac in /usr/local/lib/python3.9/dist-packages (1.7.1)\n",
            "Requirement already satisfied: python-dateutil>=2.7.0 in /usr/local/lib/python3.9/dist-packages (from pystac) (2.8.2)\n",
            "Requirement already satisfied: six>=1.5 in /usr/local/lib/python3.9/dist-packages (from python-dateutil>=2.7.0->pystac) (1.16.0)\n",
            "Looking in indexes: https://pypi.org/simple, https://us-python.pkg.dev/colab-wheels/public/simple/\n",
            "Requirement already satisfied: pystac_client in /usr/local/lib/python3.9/dist-packages (0.6.1)\n",
            "Requirement already satisfied: pystac>=1.7.0 in /usr/local/lib/python3.9/dist-packages (from pystac_client) (1.7.1)\n",
            "Requirement already satisfied: python-dateutil>=2.7.0 in /usr/local/lib/python3.9/dist-packages (from pystac_client) (2.8.2)\n",
            "Requirement already satisfied: requests>=2.27.1 in /usr/local/lib/python3.9/dist-packages (from pystac_client) (2.27.1)\n",
            "Requirement already satisfied: six>=1.5 in /usr/local/lib/python3.9/dist-packages (from python-dateutil>=2.7.0->pystac_client) (1.16.0)\n",
            "Requirement already satisfied: certifi>=2017.4.17 in /usr/local/lib/python3.9/dist-packages (from requests>=2.27.1->pystac_client) (2022.12.7)\n",
            "Requirement already satisfied: urllib3<1.27,>=1.21.1 in /usr/local/lib/python3.9/dist-packages (from requests>=2.27.1->pystac_client) (1.26.15)\n",
            "Requirement already satisfied: charset-normalizer~=2.0.0 in /usr/local/lib/python3.9/dist-packages (from requests>=2.27.1->pystac_client) (2.0.12)\n",
            "Requirement already satisfied: idna<4,>=2.5 in /usr/local/lib/python3.9/dist-packages (from requests>=2.27.1->pystac_client) (3.4)\n"
          ]
        }
      ]
    },
    {
      "cell_type": "code",
      "source": [
        "!pip install planetary_computer\n"
      ],
      "metadata": {
        "colab": {
          "base_uri": "https://localhost:8080/"
        },
        "id": "7lMIOPVErH76",
        "outputId": "0715ac04-3d26-4698-a676-45a734d2f818"
      },
      "id": "7lMIOPVErH76",
      "execution_count": null,
      "outputs": [
        {
          "output_type": "stream",
          "name": "stdout",
          "text": [
            "Looking in indexes: https://pypi.org/simple, https://us-python.pkg.dev/colab-wheels/public/simple/\n",
            "Requirement already satisfied: planetary_computer in /usr/local/lib/python3.9/dist-packages (0.4.9)\n",
            "Requirement already satisfied: requests>=2.25.1 in /usr/local/lib/python3.9/dist-packages (from planetary_computer) (2.27.1)\n",
            "Requirement already satisfied: pystac-client>=0.2.0 in /usr/local/lib/python3.9/dist-packages (from planetary_computer) (0.6.1)\n",
            "Requirement already satisfied: click>=7.1 in /usr/local/lib/python3.9/dist-packages (from planetary_computer) (8.1.3)\n",
            "Requirement already satisfied: pystac>=1.0.0 in /usr/local/lib/python3.9/dist-packages (from planetary_computer) (1.7.1)\n",
            "Requirement already satisfied: pydantic[dotenv]>=1.7.3 in /usr/local/lib/python3.9/dist-packages (from planetary_computer) (1.10.7)\n",
            "Requirement already satisfied: pytz>=2020.5 in /usr/local/lib/python3.9/dist-packages (from planetary_computer) (2022.7.1)\n",
            "Requirement already satisfied: typing-extensions>=4.2.0 in /usr/local/lib/python3.9/dist-packages (from pydantic[dotenv]>=1.7.3->planetary_computer) (4.5.0)\n",
            "Requirement already satisfied: python-dotenv>=0.10.4 in /usr/local/lib/python3.9/dist-packages (from pydantic[dotenv]>=1.7.3->planetary_computer) (1.0.0)\n",
            "Requirement already satisfied: python-dateutil>=2.7.0 in /usr/local/lib/python3.9/dist-packages (from pystac>=1.0.0->planetary_computer) (2.8.2)\n",
            "Requirement already satisfied: urllib3<1.27,>=1.21.1 in /usr/local/lib/python3.9/dist-packages (from requests>=2.25.1->planetary_computer) (1.26.15)\n",
            "Requirement already satisfied: idna<4,>=2.5 in /usr/local/lib/python3.9/dist-packages (from requests>=2.25.1->planetary_computer) (3.4)\n",
            "Requirement already satisfied: charset-normalizer~=2.0.0 in /usr/local/lib/python3.9/dist-packages (from requests>=2.25.1->planetary_computer) (2.0.12)\n",
            "Requirement already satisfied: certifi>=2017.4.17 in /usr/local/lib/python3.9/dist-packages (from requests>=2.25.1->planetary_computer) (2022.12.7)\n",
            "Requirement already satisfied: six>=1.5 in /usr/local/lib/python3.9/dist-packages (from python-dateutil>=2.7.0->pystac>=1.0.0->planetary_computer) (1.16.0)\n"
          ]
        }
      ]
    },
    {
      "cell_type": "code",
      "source": [
        "!pip install \"rich[jupyter]\""
      ],
      "metadata": {
        "colab": {
          "base_uri": "https://localhost:8080/"
        },
        "id": "jCB8AVvjrQu5",
        "outputId": "60d31299-16b6-4fa2-f70e-a4ba1bd63bdc"
      },
      "id": "jCB8AVvjrQu5",
      "execution_count": null,
      "outputs": [
        {
          "output_type": "stream",
          "name": "stdout",
          "text": [
            "Looking in indexes: https://pypi.org/simple, https://us-python.pkg.dev/colab-wheels/public/simple/\n",
            "Requirement already satisfied: rich[jupyter] in /usr/local/lib/python3.9/dist-packages (13.3.3)\n",
            "Requirement already satisfied: markdown-it-py<3.0.0,>=2.2.0 in /usr/local/lib/python3.9/dist-packages (from rich[jupyter]) (2.2.0)\n",
            "Requirement already satisfied: pygments<3.0.0,>=2.13.0 in /usr/local/lib/python3.9/dist-packages (from rich[jupyter]) (2.14.0)\n",
            "Requirement already satisfied: ipywidgets<9,>=7.5.1 in /usr/local/lib/python3.9/dist-packages (from rich[jupyter]) (7.7.1)\n",
            "Requirement already satisfied: ipython>=4.0.0 in /usr/local/lib/python3.9/dist-packages (from ipywidgets<9,>=7.5.1->rich[jupyter]) (7.34.0)\n",
            "Requirement already satisfied: widgetsnbextension~=3.6.0 in /usr/local/lib/python3.9/dist-packages (from ipywidgets<9,>=7.5.1->rich[jupyter]) (3.6.4)\n",
            "Requirement already satisfied: traitlets>=4.3.1 in /usr/local/lib/python3.9/dist-packages (from ipywidgets<9,>=7.5.1->rich[jupyter]) (5.7.1)\n",
            "Requirement already satisfied: jupyterlab-widgets>=1.0.0 in /usr/local/lib/python3.9/dist-packages (from ipywidgets<9,>=7.5.1->rich[jupyter]) (3.0.7)\n",
            "Requirement already satisfied: ipykernel>=4.5.1 in /usr/local/lib/python3.9/dist-packages (from ipywidgets<9,>=7.5.1->rich[jupyter]) (5.5.6)\n",
            "Requirement already satisfied: ipython-genutils~=0.2.0 in /usr/local/lib/python3.9/dist-packages (from ipywidgets<9,>=7.5.1->rich[jupyter]) (0.2.0)\n",
            "Requirement already satisfied: mdurl~=0.1 in /usr/local/lib/python3.9/dist-packages (from markdown-it-py<3.0.0,>=2.2.0->rich[jupyter]) (0.1.2)\n",
            "Requirement already satisfied: jupyter-client in /usr/local/lib/python3.9/dist-packages (from ipykernel>=4.5.1->ipywidgets<9,>=7.5.1->rich[jupyter]) (6.1.12)\n",
            "Requirement already satisfied: tornado>=4.2 in /usr/local/lib/python3.9/dist-packages (from ipykernel>=4.5.1->ipywidgets<9,>=7.5.1->rich[jupyter]) (6.2)\n",
            "Requirement already satisfied: matplotlib-inline in /usr/local/lib/python3.9/dist-packages (from ipython>=4.0.0->ipywidgets<9,>=7.5.1->rich[jupyter]) (0.1.6)\n",
            "Requirement already satisfied: pexpect>4.3 in /usr/local/lib/python3.9/dist-packages (from ipython>=4.0.0->ipywidgets<9,>=7.5.1->rich[jupyter]) (4.8.0)\n",
            "Requirement already satisfied: backcall in /usr/local/lib/python3.9/dist-packages (from ipython>=4.0.0->ipywidgets<9,>=7.5.1->rich[jupyter]) (0.2.0)\n",
            "Requirement already satisfied: jedi>=0.16 in /usr/local/lib/python3.9/dist-packages (from ipython>=4.0.0->ipywidgets<9,>=7.5.1->rich[jupyter]) (0.18.2)\n",
            "Requirement already satisfied: setuptools>=18.5 in /usr/local/lib/python3.9/dist-packages (from ipython>=4.0.0->ipywidgets<9,>=7.5.1->rich[jupyter]) (67.6.1)\n",
            "Requirement already satisfied: decorator in /usr/local/lib/python3.9/dist-packages (from ipython>=4.0.0->ipywidgets<9,>=7.5.1->rich[jupyter]) (4.4.2)\n",
            "Requirement already satisfied: pickleshare in /usr/local/lib/python3.9/dist-packages (from ipython>=4.0.0->ipywidgets<9,>=7.5.1->rich[jupyter]) (0.7.5)\n",
            "Requirement already satisfied: prompt-toolkit!=3.0.0,!=3.0.1,<3.1.0,>=2.0.0 in /usr/local/lib/python3.9/dist-packages (from ipython>=4.0.0->ipywidgets<9,>=7.5.1->rich[jupyter]) (3.0.38)\n",
            "Requirement already satisfied: notebook>=4.4.1 in /usr/local/lib/python3.9/dist-packages (from widgetsnbextension~=3.6.0->ipywidgets<9,>=7.5.1->rich[jupyter]) (6.3.0)\n",
            "Requirement already satisfied: parso<0.9.0,>=0.8.0 in /usr/local/lib/python3.9/dist-packages (from jedi>=0.16->ipython>=4.0.0->ipywidgets<9,>=7.5.1->rich[jupyter]) (0.8.3)\n",
            "Requirement already satisfied: Send2Trash>=1.5.0 in /usr/local/lib/python3.9/dist-packages (from notebook>=4.4.1->widgetsnbextension~=3.6.0->ipywidgets<9,>=7.5.1->rich[jupyter]) (1.8.0)\n",
            "Requirement already satisfied: prometheus-client in /usr/local/lib/python3.9/dist-packages (from notebook>=4.4.1->widgetsnbextension~=3.6.0->ipywidgets<9,>=7.5.1->rich[jupyter]) (0.16.0)\n",
            "Requirement already satisfied: jinja2 in /usr/local/lib/python3.9/dist-packages (from notebook>=4.4.1->widgetsnbextension~=3.6.0->ipywidgets<9,>=7.5.1->rich[jupyter]) (3.1.2)\n",
            "Requirement already satisfied: pyzmq>=17 in /usr/local/lib/python3.9/dist-packages (from notebook>=4.4.1->widgetsnbextension~=3.6.0->ipywidgets<9,>=7.5.1->rich[jupyter]) (23.2.1)\n",
            "Requirement already satisfied: terminado>=0.8.3 in /usr/local/lib/python3.9/dist-packages (from notebook>=4.4.1->widgetsnbextension~=3.6.0->ipywidgets<9,>=7.5.1->rich[jupyter]) (0.17.1)\n",
            "Requirement already satisfied: argon2-cffi in /usr/local/lib/python3.9/dist-packages (from notebook>=4.4.1->widgetsnbextension~=3.6.0->ipywidgets<9,>=7.5.1->rich[jupyter]) (21.3.0)\n",
            "Requirement already satisfied: jupyter-core>=4.6.1 in /usr/local/lib/python3.9/dist-packages (from notebook>=4.4.1->widgetsnbextension~=3.6.0->ipywidgets<9,>=7.5.1->rich[jupyter]) (5.3.0)\n",
            "Requirement already satisfied: nbconvert in /usr/local/lib/python3.9/dist-packages (from notebook>=4.4.1->widgetsnbextension~=3.6.0->ipywidgets<9,>=7.5.1->rich[jupyter]) (6.5.4)\n",
            "Requirement already satisfied: nbformat in /usr/local/lib/python3.9/dist-packages (from notebook>=4.4.1->widgetsnbextension~=3.6.0->ipywidgets<9,>=7.5.1->rich[jupyter]) (5.8.0)\n",
            "Requirement already satisfied: python-dateutil>=2.1 in /usr/local/lib/python3.9/dist-packages (from jupyter-client->ipykernel>=4.5.1->ipywidgets<9,>=7.5.1->rich[jupyter]) (2.8.2)\n",
            "Requirement already satisfied: ptyprocess>=0.5 in /usr/local/lib/python3.9/dist-packages (from pexpect>4.3->ipython>=4.0.0->ipywidgets<9,>=7.5.1->rich[jupyter]) (0.7.0)\n",
            "Requirement already satisfied: wcwidth in /usr/local/lib/python3.9/dist-packages (from prompt-toolkit!=3.0.0,!=3.0.1,<3.1.0,>=2.0.0->ipython>=4.0.0->ipywidgets<9,>=7.5.1->rich[jupyter]) (0.2.6)\n",
            "Requirement already satisfied: platformdirs>=2.5 in /usr/local/lib/python3.9/dist-packages (from jupyter-core>=4.6.1->notebook>=4.4.1->widgetsnbextension~=3.6.0->ipywidgets<9,>=7.5.1->rich[jupyter]) (3.2.0)\n",
            "Requirement already satisfied: six>=1.5 in /usr/local/lib/python3.9/dist-packages (from python-dateutil>=2.1->jupyter-client->ipykernel>=4.5.1->ipywidgets<9,>=7.5.1->rich[jupyter]) (1.16.0)\n",
            "Requirement already satisfied: argon2-cffi-bindings in /usr/local/lib/python3.9/dist-packages (from argon2-cffi->notebook>=4.4.1->widgetsnbextension~=3.6.0->ipywidgets<9,>=7.5.1->rich[jupyter]) (21.2.0)\n",
            "Requirement already satisfied: MarkupSafe>=2.0 in /usr/local/lib/python3.9/dist-packages (from jinja2->notebook>=4.4.1->widgetsnbextension~=3.6.0->ipywidgets<9,>=7.5.1->rich[jupyter]) (2.1.2)\n",
            "Requirement already satisfied: mistune<2,>=0.8.1 in /usr/local/lib/python3.9/dist-packages (from nbconvert->notebook>=4.4.1->widgetsnbextension~=3.6.0->ipywidgets<9,>=7.5.1->rich[jupyter]) (0.8.4)\n",
            "Requirement already satisfied: nbclient>=0.5.0 in /usr/local/lib/python3.9/dist-packages (from nbconvert->notebook>=4.4.1->widgetsnbextension~=3.6.0->ipywidgets<9,>=7.5.1->rich[jupyter]) (0.7.2)\n",
            "Requirement already satisfied: entrypoints>=0.2.2 in /usr/local/lib/python3.9/dist-packages (from nbconvert->notebook>=4.4.1->widgetsnbextension~=3.6.0->ipywidgets<9,>=7.5.1->rich[jupyter]) (0.4)\n",
            "Requirement already satisfied: defusedxml in /usr/local/lib/python3.9/dist-packages (from nbconvert->notebook>=4.4.1->widgetsnbextension~=3.6.0->ipywidgets<9,>=7.5.1->rich[jupyter]) (0.7.1)\n",
            "Requirement already satisfied: beautifulsoup4 in /usr/local/lib/python3.9/dist-packages (from nbconvert->notebook>=4.4.1->widgetsnbextension~=3.6.0->ipywidgets<9,>=7.5.1->rich[jupyter]) (4.11.2)\n",
            "Requirement already satisfied: bleach in /usr/local/lib/python3.9/dist-packages (from nbconvert->notebook>=4.4.1->widgetsnbextension~=3.6.0->ipywidgets<9,>=7.5.1->rich[jupyter]) (6.0.0)\n",
            "Requirement already satisfied: packaging in /usr/local/lib/python3.9/dist-packages (from nbconvert->notebook>=4.4.1->widgetsnbextension~=3.6.0->ipywidgets<9,>=7.5.1->rich[jupyter]) (23.0)\n",
            "Requirement already satisfied: tinycss2 in /usr/local/lib/python3.9/dist-packages (from nbconvert->notebook>=4.4.1->widgetsnbextension~=3.6.0->ipywidgets<9,>=7.5.1->rich[jupyter]) (1.2.1)\n",
            "Requirement already satisfied: jupyterlab-pygments in /usr/local/lib/python3.9/dist-packages (from nbconvert->notebook>=4.4.1->widgetsnbextension~=3.6.0->ipywidgets<9,>=7.5.1->rich[jupyter]) (0.2.2)\n",
            "Requirement already satisfied: pandocfilters>=1.4.1 in /usr/local/lib/python3.9/dist-packages (from nbconvert->notebook>=4.4.1->widgetsnbextension~=3.6.0->ipywidgets<9,>=7.5.1->rich[jupyter]) (1.5.0)\n",
            "Requirement already satisfied: lxml in /usr/local/lib/python3.9/dist-packages (from nbconvert->notebook>=4.4.1->widgetsnbextension~=3.6.0->ipywidgets<9,>=7.5.1->rich[jupyter]) (4.9.2)\n",
            "Requirement already satisfied: fastjsonschema in /usr/local/lib/python3.9/dist-packages (from nbformat->notebook>=4.4.1->widgetsnbextension~=3.6.0->ipywidgets<9,>=7.5.1->rich[jupyter]) (2.16.3)\n",
            "Requirement already satisfied: jsonschema>=2.6 in /usr/local/lib/python3.9/dist-packages (from nbformat->notebook>=4.4.1->widgetsnbextension~=3.6.0->ipywidgets<9,>=7.5.1->rich[jupyter]) (4.3.3)\n",
            "Requirement already satisfied: attrs>=17.4.0 in /usr/local/lib/python3.9/dist-packages (from jsonschema>=2.6->nbformat->notebook>=4.4.1->widgetsnbextension~=3.6.0->ipywidgets<9,>=7.5.1->rich[jupyter]) (22.2.0)\n",
            "Requirement already satisfied: pyrsistent!=0.17.0,!=0.17.1,!=0.17.2,>=0.14.0 in /usr/local/lib/python3.9/dist-packages (from jsonschema>=2.6->nbformat->notebook>=4.4.1->widgetsnbextension~=3.6.0->ipywidgets<9,>=7.5.1->rich[jupyter]) (0.19.3)\n",
            "Requirement already satisfied: cffi>=1.0.1 in /usr/local/lib/python3.9/dist-packages (from argon2-cffi-bindings->argon2-cffi->notebook>=4.4.1->widgetsnbextension~=3.6.0->ipywidgets<9,>=7.5.1->rich[jupyter]) (1.15.1)\n",
            "Requirement already satisfied: soupsieve>1.2 in /usr/local/lib/python3.9/dist-packages (from beautifulsoup4->nbconvert->notebook>=4.4.1->widgetsnbextension~=3.6.0->ipywidgets<9,>=7.5.1->rich[jupyter]) (2.4)\n",
            "Requirement already satisfied: webencodings in /usr/local/lib/python3.9/dist-packages (from bleach->nbconvert->notebook>=4.4.1->widgetsnbextension~=3.6.0->ipywidgets<9,>=7.5.1->rich[jupyter]) (0.5.1)\n",
            "Requirement already satisfied: pycparser in /usr/local/lib/python3.9/dist-packages (from cffi>=1.0.1->argon2-cffi-bindings->argon2-cffi->notebook>=4.4.1->widgetsnbextension~=3.6.0->ipywidgets<9,>=7.5.1->rich[jupyter]) (2.21)\n"
          ]
        }
      ]
    },
    {
      "cell_type": "code",
      "source": [
        "pip install odc-stac"
      ],
      "metadata": {
        "colab": {
          "base_uri": "https://localhost:8080/"
        },
        "id": "Sr352B_9YWtk",
        "outputId": "7a7c171d-e27e-4e31-e5d0-42de36dbc165"
      },
      "id": "Sr352B_9YWtk",
      "execution_count": null,
      "outputs": [
        {
          "output_type": "stream",
          "name": "stdout",
          "text": [
            "Looking in indexes: https://pypi.org/simple, https://us-python.pkg.dev/colab-wheels/public/simple/\n",
            "Requirement already satisfied: odc-stac in /usr/local/lib/python3.9/dist-packages (0.3.5)\n",
            "Requirement already satisfied: odc-geo>=0.3.0 in /usr/local/lib/python3.9/dist-packages (from odc-stac) (0.3.3)\n",
            "Requirement already satisfied: affine in /usr/local/lib/python3.9/dist-packages (from odc-stac) (2.4.0)\n",
            "Requirement already satisfied: rasterio!=1.3.0,!=1.3.1,>=1.0.0 in /usr/local/lib/python3.9/dist-packages (from odc-stac) (1.3.6)\n",
            "Requirement already satisfied: pystac<2,>=1.0.0 in /usr/local/lib/python3.9/dist-packages (from odc-stac) (1.7.1)\n",
            "Requirement already satisfied: xarray>=0.19 in /usr/local/lib/python3.9/dist-packages (from odc-stac) (2022.12.0)\n",
            "Requirement already satisfied: dask[array] in /usr/local/lib/python3.9/dist-packages (from odc-stac) (2022.12.1)\n",
            "Requirement already satisfied: toolz in /usr/local/lib/python3.9/dist-packages (from odc-stac) (0.12.0)\n",
            "Requirement already satisfied: numpy>=1.20.0 in /usr/local/lib/python3.9/dist-packages (from odc-stac) (1.22.4)\n",
            "Requirement already satisfied: pandas in /usr/local/lib/python3.9/dist-packages (from odc-stac) (1.4.4)\n",
            "Requirement already satisfied: cachetools in /usr/local/lib/python3.9/dist-packages (from odc-geo>=0.3.0->odc-stac) (5.3.0)\n",
            "Requirement already satisfied: shapely in /usr/local/lib/python3.9/dist-packages (from odc-geo>=0.3.0->odc-stac) (2.0.1)\n",
            "Requirement already satisfied: pyproj>=3.0.0 in /usr/local/lib/python3.9/dist-packages (from odc-geo>=0.3.0->odc-stac) (3.5.0)\n",
            "Requirement already satisfied: python-dateutil>=2.7.0 in /usr/local/lib/python3.9/dist-packages (from pystac<2,>=1.0.0->odc-stac) (2.8.2)\n",
            "Requirement already satisfied: setuptools in /usr/local/lib/python3.9/dist-packages (from rasterio!=1.3.0,!=1.3.1,>=1.0.0->odc-stac) (67.6.1)\n",
            "Requirement already satisfied: certifi in /usr/local/lib/python3.9/dist-packages (from rasterio!=1.3.0,!=1.3.1,>=1.0.0->odc-stac) (2022.12.7)\n",
            "Requirement already satisfied: click-plugins in /usr/local/lib/python3.9/dist-packages (from rasterio!=1.3.0,!=1.3.1,>=1.0.0->odc-stac) (1.1.1)\n",
            "Requirement already satisfied: snuggs>=1.4.1 in /usr/local/lib/python3.9/dist-packages (from rasterio!=1.3.0,!=1.3.1,>=1.0.0->odc-stac) (1.4.7)\n",
            "Requirement already satisfied: cligj>=0.5 in /usr/local/lib/python3.9/dist-packages (from rasterio!=1.3.0,!=1.3.1,>=1.0.0->odc-stac) (0.7.2)\n",
            "Requirement already satisfied: attrs in /usr/local/lib/python3.9/dist-packages (from rasterio!=1.3.0,!=1.3.1,>=1.0.0->odc-stac) (22.2.0)\n",
            "Requirement already satisfied: click>=4.0 in /usr/local/lib/python3.9/dist-packages (from rasterio!=1.3.0,!=1.3.1,>=1.0.0->odc-stac) (8.1.3)\n",
            "Requirement already satisfied: packaging>=21.3 in /usr/local/lib/python3.9/dist-packages (from xarray>=0.19->odc-stac) (23.0)\n",
            "Requirement already satisfied: pytz>=2020.1 in /usr/local/lib/python3.9/dist-packages (from pandas->odc-stac) (2022.7.1)\n",
            "Requirement already satisfied: fsspec>=0.6.0 in /usr/local/lib/python3.9/dist-packages (from dask[array]->odc-stac) (2023.3.0)\n",
            "Requirement already satisfied: cloudpickle>=1.1.1 in /usr/local/lib/python3.9/dist-packages (from dask[array]->odc-stac) (2.2.1)\n",
            "Requirement already satisfied: pyyaml>=5.3.1 in /usr/local/lib/python3.9/dist-packages (from dask[array]->odc-stac) (6.0)\n",
            "Requirement already satisfied: partd>=0.3.10 in /usr/local/lib/python3.9/dist-packages (from dask[array]->odc-stac) (1.3.0)\n",
            "Requirement already satisfied: locket in /usr/local/lib/python3.9/dist-packages (from partd>=0.3.10->dask[array]->odc-stac) (1.0.0)\n",
            "Requirement already satisfied: six>=1.5 in /usr/local/lib/python3.9/dist-packages (from python-dateutil>=2.7.0->pystac<2,>=1.0.0->odc-stac) (1.16.0)\n",
            "Requirement already satisfied: pyparsing>=2.1.6 in /usr/local/lib/python3.9/dist-packages (from snuggs>=1.4.1->rasterio!=1.3.0,!=1.3.1,>=1.0.0->odc-stac) (3.0.9)\n"
          ]
        }
      ]
    },
    {
      "cell_type": "code",
      "execution_count": null,
      "id": "3a03723e-78ae-4150-ba22-e2e485b95cdb",
      "metadata": {
        "id": "3a03723e-78ae-4150-ba22-e2e485b95cdb"
      },
      "outputs": [],
      "source": [
        "# Supress Warnings\n",
        "import warnings\n",
        "warnings.filterwarnings('ignore')\n",
        "\n",
        "# Visualization\n",
        "import ipyleaflet\n",
        "import matplotlib.pyplot as plt\n",
        "from IPython.display import Image\n",
        "import seaborn as sns\n",
        "\n",
        "# Data Science\n",
        "import numpy as np\n",
        "import pandas as pd\n",
        "\n",
        "# Feature Engineering\n",
        "from sklearn.preprocessing import StandardScaler\n",
        "from sklearn.model_selection import train_test_split\n",
        "\n",
        "# Machine Learning\n",
        "from sklearn.linear_model import LogisticRegression\n",
        "from sklearn.metrics import f1_score, accuracy_score,classification_report,confusion_matrix\n",
        "from sklearn.ensemble import RandomForestClassifier\n",
        "\n",
        "# Planetary Computer Tools\n",
        "import pystac\n",
        "import pystac_client\n",
        "import odc\n",
        "from pystac_client import Client\n",
        "from pystac.extensions.eo import EOExtension as eo\n",
        "from odc.stac import stac_load\n",
        "import planetary_computer as pc\n",
        "\n",
        "# Others\n",
        "import requests\n",
        "import rich.table\n",
        "from itertools import cycle\n",
        "from tqdm import tqdm\n",
        "tqdm.pandas()"
      ]
    },
    {
      "cell_type": "code",
      "source": [
        "from google.colab import files\n",
        "uploaded = files.upload()"
      ],
      "metadata": {
        "colab": {
          "base_uri": "https://localhost:8080/",
          "height": 73
        },
        "id": "0iCseNNUrFFS",
        "outputId": "d3b11ab6-66e7-44f2-fa1b-ceb30f55d979"
      },
      "id": "0iCseNNUrFFS",
      "execution_count": null,
      "outputs": [
        {
          "output_type": "display_data",
          "data": {
            "text/plain": [
              "<IPython.core.display.HTML object>"
            ],
            "text/html": [
              "\n",
              "     <input type=\"file\" id=\"files-d870acd8-15ec-4c4b-84d0-9ef4c8e7f3d8\" name=\"files[]\" multiple disabled\n",
              "        style=\"border:none\" />\n",
              "     <output id=\"result-d870acd8-15ec-4c4b-84d0-9ef4c8e7f3d8\">\n",
              "      Upload widget is only available when the cell has been executed in the\n",
              "      current browser session. Please rerun this cell to enable.\n",
              "      </output>\n",
              "      <script>// Copyright 2017 Google LLC\n",
              "//\n",
              "// Licensed under the Apache License, Version 2.0 (the \"License\");\n",
              "// you may not use this file except in compliance with the License.\n",
              "// You may obtain a copy of the License at\n",
              "//\n",
              "//      http://www.apache.org/licenses/LICENSE-2.0\n",
              "//\n",
              "// Unless required by applicable law or agreed to in writing, software\n",
              "// distributed under the License is distributed on an \"AS IS\" BASIS,\n",
              "// WITHOUT WARRANTIES OR CONDITIONS OF ANY KIND, either express or implied.\n",
              "// See the License for the specific language governing permissions and\n",
              "// limitations under the License.\n",
              "\n",
              "/**\n",
              " * @fileoverview Helpers for google.colab Python module.\n",
              " */\n",
              "(function(scope) {\n",
              "function span(text, styleAttributes = {}) {\n",
              "  const element = document.createElement('span');\n",
              "  element.textContent = text;\n",
              "  for (const key of Object.keys(styleAttributes)) {\n",
              "    element.style[key] = styleAttributes[key];\n",
              "  }\n",
              "  return element;\n",
              "}\n",
              "\n",
              "// Max number of bytes which will be uploaded at a time.\n",
              "const MAX_PAYLOAD_SIZE = 100 * 1024;\n",
              "\n",
              "function _uploadFiles(inputId, outputId) {\n",
              "  const steps = uploadFilesStep(inputId, outputId);\n",
              "  const outputElement = document.getElementById(outputId);\n",
              "  // Cache steps on the outputElement to make it available for the next call\n",
              "  // to uploadFilesContinue from Python.\n",
              "  outputElement.steps = steps;\n",
              "\n",
              "  return _uploadFilesContinue(outputId);\n",
              "}\n",
              "\n",
              "// This is roughly an async generator (not supported in the browser yet),\n",
              "// where there are multiple asynchronous steps and the Python side is going\n",
              "// to poll for completion of each step.\n",
              "// This uses a Promise to block the python side on completion of each step,\n",
              "// then passes the result of the previous step as the input to the next step.\n",
              "function _uploadFilesContinue(outputId) {\n",
              "  const outputElement = document.getElementById(outputId);\n",
              "  const steps = outputElement.steps;\n",
              "\n",
              "  const next = steps.next(outputElement.lastPromiseValue);\n",
              "  return Promise.resolve(next.value.promise).then((value) => {\n",
              "    // Cache the last promise value to make it available to the next\n",
              "    // step of the generator.\n",
              "    outputElement.lastPromiseValue = value;\n",
              "    return next.value.response;\n",
              "  });\n",
              "}\n",
              "\n",
              "/**\n",
              " * Generator function which is called between each async step of the upload\n",
              " * process.\n",
              " * @param {string} inputId Element ID of the input file picker element.\n",
              " * @param {string} outputId Element ID of the output display.\n",
              " * @return {!Iterable<!Object>} Iterable of next steps.\n",
              " */\n",
              "function* uploadFilesStep(inputId, outputId) {\n",
              "  const inputElement = document.getElementById(inputId);\n",
              "  inputElement.disabled = false;\n",
              "\n",
              "  const outputElement = document.getElementById(outputId);\n",
              "  outputElement.innerHTML = '';\n",
              "\n",
              "  const pickedPromise = new Promise((resolve) => {\n",
              "    inputElement.addEventListener('change', (e) => {\n",
              "      resolve(e.target.files);\n",
              "    });\n",
              "  });\n",
              "\n",
              "  const cancel = document.createElement('button');\n",
              "  inputElement.parentElement.appendChild(cancel);\n",
              "  cancel.textContent = 'Cancel upload';\n",
              "  const cancelPromise = new Promise((resolve) => {\n",
              "    cancel.onclick = () => {\n",
              "      resolve(null);\n",
              "    };\n",
              "  });\n",
              "\n",
              "  // Wait for the user to pick the files.\n",
              "  const files = yield {\n",
              "    promise: Promise.race([pickedPromise, cancelPromise]),\n",
              "    response: {\n",
              "      action: 'starting',\n",
              "    }\n",
              "  };\n",
              "\n",
              "  cancel.remove();\n",
              "\n",
              "  // Disable the input element since further picks are not allowed.\n",
              "  inputElement.disabled = true;\n",
              "\n",
              "  if (!files) {\n",
              "    return {\n",
              "      response: {\n",
              "        action: 'complete',\n",
              "      }\n",
              "    };\n",
              "  }\n",
              "\n",
              "  for (const file of files) {\n",
              "    const li = document.createElement('li');\n",
              "    li.append(span(file.name, {fontWeight: 'bold'}));\n",
              "    li.append(span(\n",
              "        `(${file.type || 'n/a'}) - ${file.size} bytes, ` +\n",
              "        `last modified: ${\n",
              "            file.lastModifiedDate ? file.lastModifiedDate.toLocaleDateString() :\n",
              "                                    'n/a'} - `));\n",
              "    const percent = span('0% done');\n",
              "    li.appendChild(percent);\n",
              "\n",
              "    outputElement.appendChild(li);\n",
              "\n",
              "    const fileDataPromise = new Promise((resolve) => {\n",
              "      const reader = new FileReader();\n",
              "      reader.onload = (e) => {\n",
              "        resolve(e.target.result);\n",
              "      };\n",
              "      reader.readAsArrayBuffer(file);\n",
              "    });\n",
              "    // Wait for the data to be ready.\n",
              "    let fileData = yield {\n",
              "      promise: fileDataPromise,\n",
              "      response: {\n",
              "        action: 'continue',\n",
              "      }\n",
              "    };\n",
              "\n",
              "    // Use a chunked sending to avoid message size limits. See b/62115660.\n",
              "    let position = 0;\n",
              "    do {\n",
              "      const length = Math.min(fileData.byteLength - position, MAX_PAYLOAD_SIZE);\n",
              "      const chunk = new Uint8Array(fileData, position, length);\n",
              "      position += length;\n",
              "\n",
              "      const base64 = btoa(String.fromCharCode.apply(null, chunk));\n",
              "      yield {\n",
              "        response: {\n",
              "          action: 'append',\n",
              "          file: file.name,\n",
              "          data: base64,\n",
              "        },\n",
              "      };\n",
              "\n",
              "      let percentDone = fileData.byteLength === 0 ?\n",
              "          100 :\n",
              "          Math.round((position / fileData.byteLength) * 100);\n",
              "      percent.textContent = `${percentDone}% done`;\n",
              "\n",
              "    } while (position < fileData.byteLength);\n",
              "  }\n",
              "\n",
              "  // All done.\n",
              "  yield {\n",
              "    response: {\n",
              "      action: 'complete',\n",
              "    }\n",
              "  };\n",
              "}\n",
              "\n",
              "scope.google = scope.google || {};\n",
              "scope.google.colab = scope.google.colab || {};\n",
              "scope.google.colab._files = {\n",
              "  _uploadFiles,\n",
              "  _uploadFilesContinue,\n",
              "};\n",
              "})(self);\n",
              "</script> "
            ]
          },
          "metadata": {}
        },
        {
          "output_type": "stream",
          "name": "stdout",
          "text": [
            "Saving Crop_Location_Data_20221201.csv to Crop_Location_Data_20221201 (1).csv\n"
          ]
        }
      ]
    },
    {
      "cell_type": "markdown",
      "id": "1c268cf6",
      "metadata": {
        "id": "1c268cf6"
      },
      "source": [
        "## Response Variable"
      ]
    },
    {
      "cell_type": "markdown",
      "id": "f80dbf04",
      "metadata": {
        "id": "f80dbf04"
      },
      "source": [
        "Data is from a certain region in Vietnam for the year 2020. The data consists of  geo locations (Latitude and Longitude) with a tag specifying if the crop present in each geo location is rice or not.  "
      ]
    },
    {
      "cell_type": "code",
      "execution_count": null,
      "id": "0f1da678",
      "metadata": {
        "colab": {
          "base_uri": "https://localhost:8080/",
          "height": 206
        },
        "id": "0f1da678",
        "outputId": "bae33ca5-fc4d-44ca-b0f8-8a4e3fbbb182"
      },
      "outputs": [
        {
          "output_type": "execute_result",
          "data": {
            "text/plain": [
              "                     Latitude and Longitude Class of Land\n",
              "0   (10.323727047081501, 105.2516346045924)          Rice\n",
              "1  (10.322364360592521, 105.27843410554115)          Rice\n",
              "2  (10.321455902933202, 105.25254306225168)          Rice\n",
              "3  (10.324181275911162, 105.25118037576274)          Rice\n",
              "4  (10.324635504740822, 105.27389181724476)          Rice"
            ],
            "text/html": [
              "\n",
              "  <div id=\"df-97371dc2-c750-4690-a415-22c4e0f7a7f2\">\n",
              "    <div class=\"colab-df-container\">\n",
              "      <div>\n",
              "<style scoped>\n",
              "    .dataframe tbody tr th:only-of-type {\n",
              "        vertical-align: middle;\n",
              "    }\n",
              "\n",
              "    .dataframe tbody tr th {\n",
              "        vertical-align: top;\n",
              "    }\n",
              "\n",
              "    .dataframe thead th {\n",
              "        text-align: right;\n",
              "    }\n",
              "</style>\n",
              "<table border=\"1\" class=\"dataframe\">\n",
              "  <thead>\n",
              "    <tr style=\"text-align: right;\">\n",
              "      <th></th>\n",
              "      <th>Latitude and Longitude</th>\n",
              "      <th>Class of Land</th>\n",
              "    </tr>\n",
              "  </thead>\n",
              "  <tbody>\n",
              "    <tr>\n",
              "      <th>0</th>\n",
              "      <td>(10.323727047081501, 105.2516346045924)</td>\n",
              "      <td>Rice</td>\n",
              "    </tr>\n",
              "    <tr>\n",
              "      <th>1</th>\n",
              "      <td>(10.322364360592521, 105.27843410554115)</td>\n",
              "      <td>Rice</td>\n",
              "    </tr>\n",
              "    <tr>\n",
              "      <th>2</th>\n",
              "      <td>(10.321455902933202, 105.25254306225168)</td>\n",
              "      <td>Rice</td>\n",
              "    </tr>\n",
              "    <tr>\n",
              "      <th>3</th>\n",
              "      <td>(10.324181275911162, 105.25118037576274)</td>\n",
              "      <td>Rice</td>\n",
              "    </tr>\n",
              "    <tr>\n",
              "      <th>4</th>\n",
              "      <td>(10.324635504740822, 105.27389181724476)</td>\n",
              "      <td>Rice</td>\n",
              "    </tr>\n",
              "  </tbody>\n",
              "</table>\n",
              "</div>\n",
              "      <button class=\"colab-df-convert\" onclick=\"convertToInteractive('df-97371dc2-c750-4690-a415-22c4e0f7a7f2')\"\n",
              "              title=\"Convert this dataframe to an interactive table.\"\n",
              "              style=\"display:none;\">\n",
              "        \n",
              "  <svg xmlns=\"http://www.w3.org/2000/svg\" height=\"24px\"viewBox=\"0 0 24 24\"\n",
              "       width=\"24px\">\n",
              "    <path d=\"M0 0h24v24H0V0z\" fill=\"none\"/>\n",
              "    <path d=\"M18.56 5.44l.94 2.06.94-2.06 2.06-.94-2.06-.94-.94-2.06-.94 2.06-2.06.94zm-11 1L8.5 8.5l.94-2.06 2.06-.94-2.06-.94L8.5 2.5l-.94 2.06-2.06.94zm10 10l.94 2.06.94-2.06 2.06-.94-2.06-.94-.94-2.06-.94 2.06-2.06.94z\"/><path d=\"M17.41 7.96l-1.37-1.37c-.4-.4-.92-.59-1.43-.59-.52 0-1.04.2-1.43.59L10.3 9.45l-7.72 7.72c-.78.78-.78 2.05 0 2.83L4 21.41c.39.39.9.59 1.41.59.51 0 1.02-.2 1.41-.59l7.78-7.78 2.81-2.81c.8-.78.8-2.07 0-2.86zM5.41 20L4 18.59l7.72-7.72 1.47 1.35L5.41 20z\"/>\n",
              "  </svg>\n",
              "      </button>\n",
              "      \n",
              "  <style>\n",
              "    .colab-df-container {\n",
              "      display:flex;\n",
              "      flex-wrap:wrap;\n",
              "      gap: 12px;\n",
              "    }\n",
              "\n",
              "    .colab-df-convert {\n",
              "      background-color: #E8F0FE;\n",
              "      border: none;\n",
              "      border-radius: 50%;\n",
              "      cursor: pointer;\n",
              "      display: none;\n",
              "      fill: #1967D2;\n",
              "      height: 32px;\n",
              "      padding: 0 0 0 0;\n",
              "      width: 32px;\n",
              "    }\n",
              "\n",
              "    .colab-df-convert:hover {\n",
              "      background-color: #E2EBFA;\n",
              "      box-shadow: 0px 1px 2px rgba(60, 64, 67, 0.3), 0px 1px 3px 1px rgba(60, 64, 67, 0.15);\n",
              "      fill: #174EA6;\n",
              "    }\n",
              "\n",
              "    [theme=dark] .colab-df-convert {\n",
              "      background-color: #3B4455;\n",
              "      fill: #D2E3FC;\n",
              "    }\n",
              "\n",
              "    [theme=dark] .colab-df-convert:hover {\n",
              "      background-color: #434B5C;\n",
              "      box-shadow: 0px 1px 3px 1px rgba(0, 0, 0, 0.15);\n",
              "      filter: drop-shadow(0px 1px 2px rgba(0, 0, 0, 0.3));\n",
              "      fill: #FFFFFF;\n",
              "    }\n",
              "  </style>\n",
              "\n",
              "      <script>\n",
              "        const buttonEl =\n",
              "          document.querySelector('#df-97371dc2-c750-4690-a415-22c4e0f7a7f2 button.colab-df-convert');\n",
              "        buttonEl.style.display =\n",
              "          google.colab.kernel.accessAllowed ? 'block' : 'none';\n",
              "\n",
              "        async function convertToInteractive(key) {\n",
              "          const element = document.querySelector('#df-97371dc2-c750-4690-a415-22c4e0f7a7f2');\n",
              "          const dataTable =\n",
              "            await google.colab.kernel.invokeFunction('convertToInteractive',\n",
              "                                                     [key], {});\n",
              "          if (!dataTable) return;\n",
              "\n",
              "          const docLinkHtml = 'Like what you see? Visit the ' +\n",
              "            '<a target=\"_blank\" href=https://colab.research.google.com/notebooks/data_table.ipynb>data table notebook</a>'\n",
              "            + ' to learn more about interactive tables.';\n",
              "          element.innerHTML = '';\n",
              "          dataTable['output_type'] = 'display_data';\n",
              "          await google.colab.output.renderOutput(dataTable, element);\n",
              "          const docLink = document.createElement('div');\n",
              "          docLink.innerHTML = docLinkHtml;\n",
              "          element.appendChild(docLink);\n",
              "        }\n",
              "      </script>\n",
              "    </div>\n",
              "  </div>\n",
              "  "
            ]
          },
          "metadata": {},
          "execution_count": 32
        }
      ],
      "source": [
        "crop_presence_data = pd.read_csv(\"Crop_Location_Data_20221201.csv\")\n",
        "crop_presence_data.head()"
      ]
    },
    {
      "cell_type": "markdown",
      "id": "b3b6812c-7137-4873-b4ed-2dcdd470209b",
      "metadata": {
        "id": "b3b6812c-7137-4873-b4ed-2dcdd470209b"
      },
      "source": [
        "## Predictor Variables"
      ]
    },
    {
      "cell_type": "code",
      "source": [
        "pc.settings.set_subscription_key('41bceb117488421db87b00886641ef9d')"
      ],
      "metadata": {
        "id": "8k3FG6HGAk6I"
      },
      "id": "8k3FG6HGAk6I",
      "execution_count": null,
      "outputs": []
    },
    {
      "cell_type": "code",
      "source": [
        "import math"
      ],
      "metadata": {
        "id": "Ut_gh4xBySg8"
      },
      "id": "Ut_gh4xBySg8",
      "execution_count": null,
      "outputs": []
    },
    {
      "cell_type": "code",
      "source": [
        "def get_sentinel_data(latlong,time_slice,assets):\n",
        "    '''\n",
        "    Returns VV and VH values for a given latitude and longitude\n",
        "    Attributes:\n",
        "    latlong - A tuple with 2 elements - latitude and longitude\n",
        "    time_slice - Timeframe for which the VV and VH values have to be extracted\n",
        "    assets - A list of bands to be extracted\n",
        "    '''\n",
        "\n",
        "    latlong=latlong.replace('(','').replace(')','').replace(' ','').split(',')\n",
        "\n",
        "    box_size_deg = 0.0004 # Surrounding box in degrees, yields approximately 5x5 pixel region\n",
        "\n",
        "    min_lon = float(latlong[1])-box_size_deg/2\n",
        "    min_lat = float(latlong[0])-box_size_deg/2\n",
        "    max_lon = float(latlong[1])+box_size_deg/2\n",
        "    max_lat = float(latlong[0])+box_size_deg/2\n",
        "\n",
        "    bbox_of_interest = (min_lon, min_lat, max_lon, max_lat)\n",
        "\n",
        "    time_of_interest = time_slice\n",
        "\n",
        "    catalog = pystac_client.Client.open(\n",
        "        \"https://planetarycomputer.microsoft.com/api/stac/v1\"\n",
        "    )\n",
        "\n",
        "    search = catalog.search(\n",
        "        collections=[\"sentinel-1-rtc\"], bbox=bbox_of_interest, datetime=time_of_interest\n",
        "    )\n",
        "\n",
        "    items = list(search.get_all_items())\n",
        "\n",
        "    bands_of_interest = assets\n",
        "\n",
        "    resolution = 10  # meters per pixel\n",
        "    scale = resolution / 111320.0 # degrees per pixel for crs=4326\n",
        "\n",
        "    data = stac_load(items, bands_of_interest, patch_url=pc.sign, bbox=bbox_of_interest, crs=\"EPSG:4326\",resolution=scale)\n",
        "\n",
        "    mean = data.mean(dim=['latitude','longitude'])\n",
        "    mean1 = mean.mean(dim = ['time'])\n",
        "\n",
        "    vh = float([mean1.vh.values][0])\n",
        "    vv = float([mean1.vv.values][0])\n",
        "\n",
        "    # Calculate RVI\n",
        "    dop = (vv / (vv + vh))\n",
        "    m = 1 - dop\n",
        "    rvi = (math.sqrt(dop))*((4*vh)/(vv + vh))\n",
        "\n",
        "    return vh,vv,rvi\n"
      ],
      "metadata": {
        "id": "th0DZQ0efNGA"
      },
      "id": "th0DZQ0efNGA",
      "execution_count": null,
      "outputs": []
    },
    {
      "cell_type": "code",
      "execution_count": null,
      "id": "4c51cd6e-41e2-4df4-ae07-349be861f0f0",
      "metadata": {
        "colab": {
          "base_uri": "https://localhost:8080/"
        },
        "id": "4c51cd6e-41e2-4df4-ae07-349be861f0f0",
        "outputId": "b1d4575b-2321-421f-f0c3-d736fc538a69"
      },
      "outputs": [
        {
          "output_type": "stream",
          "name": "stderr",
          "text": [
            "100%|██████████| 600/600 [15:55<00:00,  1.59s/it]\n"
          ]
        }
      ],
      "source": [
        "## Function call to extract VV,VH Values\n",
        "time_slice1 = \"2021-01-01/2021-01-15\"\n",
        "time_slice2 = \"2021-12-01/2022-04-30\"\n",
        "time_slice2 = \"2021-12-01/2022-04-30\"\n",
        "assets = ['vh','vv']\n",
        "vh_vv = []\n",
        "for coordinates in tqdm(crop_presence_data['Latitude and Longitude']):\n",
        "    vh_vv.append(get_sentinel_data(coordinates,time_slice1,assets))\n",
        "\n",
        "vh_vv_data = pd.DataFrame(vh_vv,columns =['vh','vv','rvi'])"
      ]
    },
    {
      "cell_type": "code",
      "source": [
        "vh_vv_data.head()"
      ],
      "metadata": {
        "colab": {
          "base_uri": "https://localhost:8080/",
          "height": 206
        },
        "id": "n-CqvZ_t-o9T",
        "outputId": "82566af4-bebf-4670-e0d7-57bc94b4fe14"
      },
      "id": "n-CqvZ_t-o9T",
      "execution_count": null,
      "outputs": [
        {
          "output_type": "execute_result",
          "data": {
            "text/plain": [
              "         vh        vv       rvi\n",
              "0  0.011432  0.194914  0.215377\n",
              "1  0.009528  0.202875  0.175354\n",
              "2  0.018935  0.169832  0.380575\n",
              "3  0.012970  0.223264  0.213497\n",
              "4  0.022346  0.197064  0.386082"
            ],
            "text/html": [
              "\n",
              "  <div id=\"df-d8ef6de0-1226-4c9e-9b41-750c9e70ce3b\">\n",
              "    <div class=\"colab-df-container\">\n",
              "      <div>\n",
              "<style scoped>\n",
              "    .dataframe tbody tr th:only-of-type {\n",
              "        vertical-align: middle;\n",
              "    }\n",
              "\n",
              "    .dataframe tbody tr th {\n",
              "        vertical-align: top;\n",
              "    }\n",
              "\n",
              "    .dataframe thead th {\n",
              "        text-align: right;\n",
              "    }\n",
              "</style>\n",
              "<table border=\"1\" class=\"dataframe\">\n",
              "  <thead>\n",
              "    <tr style=\"text-align: right;\">\n",
              "      <th></th>\n",
              "      <th>vh</th>\n",
              "      <th>vv</th>\n",
              "      <th>rvi</th>\n",
              "    </tr>\n",
              "  </thead>\n",
              "  <tbody>\n",
              "    <tr>\n",
              "      <th>0</th>\n",
              "      <td>0.011432</td>\n",
              "      <td>0.194914</td>\n",
              "      <td>0.215377</td>\n",
              "    </tr>\n",
              "    <tr>\n",
              "      <th>1</th>\n",
              "      <td>0.009528</td>\n",
              "      <td>0.202875</td>\n",
              "      <td>0.175354</td>\n",
              "    </tr>\n",
              "    <tr>\n",
              "      <th>2</th>\n",
              "      <td>0.018935</td>\n",
              "      <td>0.169832</td>\n",
              "      <td>0.380575</td>\n",
              "    </tr>\n",
              "    <tr>\n",
              "      <th>3</th>\n",
              "      <td>0.012970</td>\n",
              "      <td>0.223264</td>\n",
              "      <td>0.213497</td>\n",
              "    </tr>\n",
              "    <tr>\n",
              "      <th>4</th>\n",
              "      <td>0.022346</td>\n",
              "      <td>0.197064</td>\n",
              "      <td>0.386082</td>\n",
              "    </tr>\n",
              "  </tbody>\n",
              "</table>\n",
              "</div>\n",
              "      <button class=\"colab-df-convert\" onclick=\"convertToInteractive('df-d8ef6de0-1226-4c9e-9b41-750c9e70ce3b')\"\n",
              "              title=\"Convert this dataframe to an interactive table.\"\n",
              "              style=\"display:none;\">\n",
              "        \n",
              "  <svg xmlns=\"http://www.w3.org/2000/svg\" height=\"24px\"viewBox=\"0 0 24 24\"\n",
              "       width=\"24px\">\n",
              "    <path d=\"M0 0h24v24H0V0z\" fill=\"none\"/>\n",
              "    <path d=\"M18.56 5.44l.94 2.06.94-2.06 2.06-.94-2.06-.94-.94-2.06-.94 2.06-2.06.94zm-11 1L8.5 8.5l.94-2.06 2.06-.94-2.06-.94L8.5 2.5l-.94 2.06-2.06.94zm10 10l.94 2.06.94-2.06 2.06-.94-2.06-.94-.94-2.06-.94 2.06-2.06.94z\"/><path d=\"M17.41 7.96l-1.37-1.37c-.4-.4-.92-.59-1.43-.59-.52 0-1.04.2-1.43.59L10.3 9.45l-7.72 7.72c-.78.78-.78 2.05 0 2.83L4 21.41c.39.39.9.59 1.41.59.51 0 1.02-.2 1.41-.59l7.78-7.78 2.81-2.81c.8-.78.8-2.07 0-2.86zM5.41 20L4 18.59l7.72-7.72 1.47 1.35L5.41 20z\"/>\n",
              "  </svg>\n",
              "      </button>\n",
              "      \n",
              "  <style>\n",
              "    .colab-df-container {\n",
              "      display:flex;\n",
              "      flex-wrap:wrap;\n",
              "      gap: 12px;\n",
              "    }\n",
              "\n",
              "    .colab-df-convert {\n",
              "      background-color: #E8F0FE;\n",
              "      border: none;\n",
              "      border-radius: 50%;\n",
              "      cursor: pointer;\n",
              "      display: none;\n",
              "      fill: #1967D2;\n",
              "      height: 32px;\n",
              "      padding: 0 0 0 0;\n",
              "      width: 32px;\n",
              "    }\n",
              "\n",
              "    .colab-df-convert:hover {\n",
              "      background-color: #E2EBFA;\n",
              "      box-shadow: 0px 1px 2px rgba(60, 64, 67, 0.3), 0px 1px 3px 1px rgba(60, 64, 67, 0.15);\n",
              "      fill: #174EA6;\n",
              "    }\n",
              "\n",
              "    [theme=dark] .colab-df-convert {\n",
              "      background-color: #3B4455;\n",
              "      fill: #D2E3FC;\n",
              "    }\n",
              "\n",
              "    [theme=dark] .colab-df-convert:hover {\n",
              "      background-color: #434B5C;\n",
              "      box-shadow: 0px 1px 3px 1px rgba(0, 0, 0, 0.15);\n",
              "      filter: drop-shadow(0px 1px 2px rgba(0, 0, 0, 0.3));\n",
              "      fill: #FFFFFF;\n",
              "    }\n",
              "  </style>\n",
              "\n",
              "      <script>\n",
              "        const buttonEl =\n",
              "          document.querySelector('#df-d8ef6de0-1226-4c9e-9b41-750c9e70ce3b button.colab-df-convert');\n",
              "        buttonEl.style.display =\n",
              "          google.colab.kernel.accessAllowed ? 'block' : 'none';\n",
              "\n",
              "        async function convertToInteractive(key) {\n",
              "          const element = document.querySelector('#df-d8ef6de0-1226-4c9e-9b41-750c9e70ce3b');\n",
              "          const dataTable =\n",
              "            await google.colab.kernel.invokeFunction('convertToInteractive',\n",
              "                                                     [key], {});\n",
              "          if (!dataTable) return;\n",
              "\n",
              "          const docLinkHtml = 'Like what you see? Visit the ' +\n",
              "            '<a target=\"_blank\" href=https://colab.research.google.com/notebooks/data_table.ipynb>data table notebook</a>'\n",
              "            + ' to learn more about interactive tables.';\n",
              "          element.innerHTML = '';\n",
              "          dataTable['output_type'] = 'display_data';\n",
              "          await google.colab.output.renderOutput(dataTable, element);\n",
              "          const docLink = document.createElement('div');\n",
              "          docLink.innerHTML = docLinkHtml;\n",
              "          element.appendChild(docLink);\n",
              "        }\n",
              "      </script>\n",
              "    </div>\n",
              "  </div>\n",
              "  "
            ]
          },
          "metadata": {},
          "execution_count": 54
        }
      ]
    },
    {
      "cell_type": "code",
      "source": [
        "# Filter data using the Sentinel-2 SCL band classification\n",
        "\n",
        "# scl=0 > No Data\n",
        "# scl=1 > Saturated\n",
        "# scl=3 > Cloud Shadows\n",
        "# scl=6 > Water\n",
        "# scl=8 > Cloud Medium Probability\n",
        "# scl=9 > Cloud High Probability\n",
        "# scl=10 > Thin Cirrus Cloud\n",
        "# Create a colormap to display the SCL pixel classifications\n",
        "\n",
        "scl_colormap = np.array(\n",
        "    [\n",
        "        [252,  40, 228, 255],  # 0  - NODATA - MAGENTA\n",
        "        [255,   0,   4, 255],  # 1  - Saturated or Defective - RED\n",
        "        [0  ,   0,   0, 255],  # 2  - Dark Areas - BLACK\n",
        "        [97 ,  97,  97, 255],  # 3  - Cloud Shadow - DARK GREY\n",
        "        [3  , 139,  80, 255],  # 4  - Vegetation - GREEN\n",
        "        [192, 132,  12, 255],  # 5  - Bare Ground - BROWN\n",
        "        [21 , 103, 141, 255],  # 6  - Water - BLUE\n",
        "        [117,   0,  27, 255],  # 7  - Unclassified - MAROON\n",
        "        [208, 208, 208, 255],  # 8  - Cloud - LIGHT GREY\n",
        "        [244, 244, 244, 255],  # 9  - Definitely Cloud - WHITE\n",
        "        [195, 231, 240, 255],  # 10 - Thin Cloud - LIGHT BLUE\n",
        "        [222, 157, 204, 255],  # 11 - Snow or Ice - PINK\n",
        "    ],\n",
        "    dtype=\"uint8\",\n",
        ")\n",
        "\n",
        "def colorize(data, colormap):\n",
        "    return xr.DataArray(colormap[data.data], coords=data.coords, dims=(*data.dims, \"band\"))"
      ],
      "metadata": {
        "id": "cV6I4o7Ms3te"
      },
      "id": "cV6I4o7Ms3te",
      "execution_count": null,
      "outputs": []
    },
    {
      "cell_type": "code",
      "source": [
        "def get_sentinel2_data(latlong,time_slice,assets):\n",
        "    '''\n",
        "    Returns red, green, blue, nir, NDVI, EVI, NDWI values for a given latitude and longitude\n",
        "    Attributes:\n",
        "    latlong - A tuple with 2 elements - latitude and longitude\n",
        "    time_slice - Timeframe for which the red, green, blue, nir, NDVI, EVI, NDWI values have to be extracted\n",
        "    assets - A list of bands to be extracted\n",
        "    '''\n",
        "\n",
        "    latlong=latlong.replace('(','').replace(')','').replace(' ','').split(',')\n",
        "\n",
        "    box_size_deg = 0.10 # Surrounding box in degrees, yields approximately 5x5 pixel region\n",
        "\n",
        "\n",
        "\n",
        "    min_lon = float(latlong[1])-box_size_deg/2\n",
        "    min_lat = float(latlong[0])-box_size_deg/2\n",
        "    max_lon = float(latlong[1])+box_size_deg/2\n",
        "    max_lat = float(latlong[0])+box_size_deg/2\n",
        "    bbox_of_interest = (min_lon, min_lat, max_lon, max_lat)\n",
        "\n",
        "    time_of_interest = time_slice\n",
        "\n",
        "    bands_of_interest = assets\n",
        "\n",
        "    # Define the pixel resolution for the final product\n",
        "    # Define the scale according to our selected crs, so we will use degrees\n",
        "    resolution = 20  # meters per pixel\n",
        "    scale = resolution / 111320.0 # degrees per pixel for CRS:4326\n",
        "\n",
        "    catalog = pystac_client.Client.open(\n",
        "        \"https://planetarycomputer.microsoft.com/api/stac/v1\"\n",
        "    )\n",
        "\n",
        "    search = catalog.search(\n",
        "        collections=[\"sentinel-2-l2a\"], bbox=bbox_of_interest, datetime=time_of_interest\n",
        "    )\n",
        "\n",
        "    items = list(search.get_all_items())\n",
        "\n",
        "    data = stac_load(\n",
        "    items,\n",
        "    bands=[\"red\", \"green\", \"blue\", \"nir\", \"SCL\"],\n",
        "    crs=\"EPSG:4326\", # Latitude-Longitude\n",
        "    resolution=scale, # Degrees\n",
        "    chunks={\"x\": 2048, \"y\": 2048},\n",
        "    dtype=\"uint16\",\n",
        "    patch_url=pc.sign,\n",
        "    bbox=bbox_of_interest\n",
        "    )\n",
        "\n",
        "    # Create a mask for no data, saturated data, clouds, cloud shadows, and water\n",
        "\n",
        "    cloud_mask = \\\n",
        "    (data.SCL != 0) & \\\n",
        "    (data.SCL != 1) & \\\n",
        "    (data.SCL != 3) & \\\n",
        "    (data.SCL != 6) & \\\n",
        "    (data.SCL != 8) & \\\n",
        "    (data.SCL != 9) & \\\n",
        "    (data.SCL != 10)\n",
        "\n",
        "    cleaned_data = data.where(cloud_mask).astype(\"uint16\")\n",
        "\n",
        "    mean_cleaned_data_loc = data.mean(dim=['latitude','longitude'])\n",
        "    mean_cleaned_data_time = mean_cleaned_data_loc.median(dim = ['time'])\n",
        "\n",
        "    red = float([mean_cleaned_data_time.red.values][0])\n",
        "    green = float([mean_cleaned_data_time.green.values][0])\n",
        "    blue = float([mean_cleaned_data_time.blue.values][0])\n",
        "    nir = float([mean_cleaned_data_time.nir.values][0])\n",
        "\n",
        "    # Calculate NDVI\n",
        "    NDVI = ((nir - red) / (nir + red))\n",
        "\n",
        "    # Calculate EVI\n",
        "    EVI = 2.5 * ((nir - red) / (nir + (6 * red) - (7.5 * blue) + 1))\n",
        "\n",
        "    # Calculate NDWI\n",
        "    NDWI = ((green - nir) / (green + nir))\n",
        "\n",
        "\n",
        "\n",
        "    return red, green, blue, nir, NDVI, EVI, NDWI\n"
      ],
      "metadata": {
        "id": "_nvaWaxorhio"
      },
      "execution_count": null,
      "outputs": [],
      "id": "_nvaWaxorhio"
    },
    {
      "cell_type": "code",
      "source": [
        "import xarray as xr"
      ],
      "metadata": {
        "id": "Ufn5AChdjWKS"
      },
      "id": "Ufn5AChdjWKS",
      "execution_count": null,
      "outputs": []
    },
    {
      "cell_type": "code",
      "execution_count": null,
      "metadata": {
        "colab": {
          "base_uri": "https://localhost:8080/",
          "height": 414
        },
        "id": "Uw-H9o5Grhio",
        "outputId": "ad7dd489-8c05-47ea-95c9-d0aa3b963806"
      },
      "outputs": [
        {
          "output_type": "stream",
          "name": "stderr",
          "text": [
            "  0%|          | 0/600 [00:01<?, ?it/s]\n"
          ]
        },
        {
          "output_type": "error",
          "ename": "NotImplementedError",
          "evalue": "ignored",
          "traceback": [
            "\u001b[0;31m---------------------------------------------------------------------------\u001b[0m",
            "\u001b[0;31mNotImplementedError\u001b[0m                       Traceback (most recent call last)",
            "\u001b[0;32m<ipython-input-125-5b277bf0b518>\u001b[0m in \u001b[0;36m<cell line: 8>\u001b[0;34m()\u001b[0m\n\u001b[1;32m      7\u001b[0m \u001b[0mmar_bands_set\u001b[0m \u001b[0;34m=\u001b[0m \u001b[0;34m[\u001b[0m\u001b[0;34m]\u001b[0m\u001b[0;34m\u001b[0m\u001b[0;34m\u001b[0m\u001b[0m\n\u001b[1;32m      8\u001b[0m \u001b[0;32mfor\u001b[0m \u001b[0mcoordinates\u001b[0m \u001b[0;32min\u001b[0m \u001b[0mtqdm\u001b[0m\u001b[0;34m(\u001b[0m\u001b[0mcrop_presence_data\u001b[0m\u001b[0;34m[\u001b[0m\u001b[0;34m'Latitude and Longitude'\u001b[0m\u001b[0;34m]\u001b[0m\u001b[0;34m)\u001b[0m\u001b[0;34m:\u001b[0m\u001b[0;34m\u001b[0m\u001b[0;34m\u001b[0m\u001b[0m\n\u001b[0;32m----> 9\u001b[0;31m     \u001b[0mmar_bands_set\u001b[0m\u001b[0;34m.\u001b[0m\u001b[0mappend\u001b[0m\u001b[0;34m(\u001b[0m\u001b[0mget_sentinel2_data\u001b[0m\u001b[0;34m(\u001b[0m\u001b[0mcoordinates\u001b[0m\u001b[0;34m,\u001b[0m\u001b[0mtime_slice1\u001b[0m\u001b[0;34m,\u001b[0m\u001b[0massets\u001b[0m\u001b[0;34m)\u001b[0m\u001b[0;34m)\u001b[0m\u001b[0;34m\u001b[0m\u001b[0;34m\u001b[0m\u001b[0m\n\u001b[0m\u001b[1;32m     10\u001b[0m \u001b[0;34m\u001b[0m\u001b[0m\n\u001b[1;32m     11\u001b[0m \u001b[0mmar_bands_set_data\u001b[0m \u001b[0;34m=\u001b[0m \u001b[0mpd\u001b[0m\u001b[0;34m.\u001b[0m\u001b[0mDataFrame\u001b[0m\u001b[0;34m(\u001b[0m\u001b[0mmar_bands_set\u001b[0m\u001b[0;34m,\u001b[0m\u001b[0mcolumns\u001b[0m \u001b[0;34m=\u001b[0m\u001b[0;34m[\u001b[0m\u001b[0;34m'red'\u001b[0m\u001b[0;34m,\u001b[0m\u001b[0;34m'green'\u001b[0m\u001b[0;34m,\u001b[0m \u001b[0;34m'blue'\u001b[0m\u001b[0;34m,\u001b[0m \u001b[0;34m'nir'\u001b[0m\u001b[0;34m,\u001b[0m \u001b[0;34m'NDVI'\u001b[0m\u001b[0;34m,\u001b[0m \u001b[0;34m'EVI'\u001b[0m\u001b[0;34m,\u001b[0m \u001b[0;34m'NDWI'\u001b[0m\u001b[0;34m]\u001b[0m\u001b[0;34m)\u001b[0m\u001b[0;34m\u001b[0m\u001b[0;34m\u001b[0m\u001b[0m\n",
            "\u001b[0;32m<ipython-input-123-a29d6d2a657c>\u001b[0m in \u001b[0;36mget_sentinel2_data\u001b[0;34m(latlong, time_slice, assets)\u001b[0m\n\u001b[1;32m     64\u001b[0m \u001b[0;34m\u001b[0m\u001b[0m\n\u001b[1;32m     65\u001b[0m     \u001b[0mmean_cleaned_data_loc\u001b[0m \u001b[0;34m=\u001b[0m \u001b[0mdata\u001b[0m\u001b[0;34m.\u001b[0m\u001b[0mmean\u001b[0m\u001b[0;34m(\u001b[0m\u001b[0mdim\u001b[0m\u001b[0;34m=\u001b[0m\u001b[0;34m[\u001b[0m\u001b[0;34m'latitude'\u001b[0m\u001b[0;34m,\u001b[0m\u001b[0;34m'longitude'\u001b[0m\u001b[0;34m]\u001b[0m\u001b[0;34m)\u001b[0m\u001b[0;34m\u001b[0m\u001b[0;34m\u001b[0m\u001b[0m\n\u001b[0;32m---> 66\u001b[0;31m     \u001b[0mmean_cleaned_data_time\u001b[0m \u001b[0;34m=\u001b[0m \u001b[0mmean_cleaned_data_loc\u001b[0m\u001b[0;34m.\u001b[0m\u001b[0mmedian\u001b[0m\u001b[0;34m(\u001b[0m\u001b[0mdim\u001b[0m \u001b[0;34m=\u001b[0m \u001b[0;34m[\u001b[0m\u001b[0;34m'time'\u001b[0m\u001b[0;34m]\u001b[0m\u001b[0;34m)\u001b[0m\u001b[0;34m\u001b[0m\u001b[0;34m\u001b[0m\u001b[0m\n\u001b[0m\u001b[1;32m     67\u001b[0m \u001b[0;34m\u001b[0m\u001b[0m\n\u001b[1;32m     68\u001b[0m     \u001b[0mred\u001b[0m \u001b[0;34m=\u001b[0m \u001b[0mfloat\u001b[0m\u001b[0;34m(\u001b[0m\u001b[0;34m[\u001b[0m\u001b[0mmean_cleaned_data_time\u001b[0m\u001b[0;34m.\u001b[0m\u001b[0mred\u001b[0m\u001b[0;34m.\u001b[0m\u001b[0mvalues\u001b[0m\u001b[0;34m]\u001b[0m\u001b[0;34m[\u001b[0m\u001b[0;36m0\u001b[0m\u001b[0;34m]\u001b[0m\u001b[0;34m)\u001b[0m\u001b[0;34m\u001b[0m\u001b[0;34m\u001b[0m\u001b[0m\n",
            "\u001b[0;32m/usr/local/lib/python3.9/dist-packages/xarray/core/_aggregations.py\u001b[0m in \u001b[0;36mmedian\u001b[0;34m(self, dim, skipna, keep_attrs, **kwargs)\u001b[0m\n\u001b[1;32m   1018\u001b[0m             \u001b[0mda\u001b[0m       \u001b[0mfloat64\u001b[0m \u001b[0mnan\u001b[0m\u001b[0;34m\u001b[0m\u001b[0;34m\u001b[0m\u001b[0m\n\u001b[1;32m   1019\u001b[0m         \"\"\"\n\u001b[0;32m-> 1020\u001b[0;31m         return self.reduce(\n\u001b[0m\u001b[1;32m   1021\u001b[0m             \u001b[0mduck_array_ops\u001b[0m\u001b[0;34m.\u001b[0m\u001b[0mmedian\u001b[0m\u001b[0;34m,\u001b[0m\u001b[0;34m\u001b[0m\u001b[0;34m\u001b[0m\u001b[0m\n\u001b[1;32m   1022\u001b[0m             \u001b[0mdim\u001b[0m\u001b[0;34m=\u001b[0m\u001b[0mdim\u001b[0m\u001b[0;34m,\u001b[0m\u001b[0;34m\u001b[0m\u001b[0;34m\u001b[0m\u001b[0m\n",
            "\u001b[0;32m/usr/local/lib/python3.9/dist-packages/xarray/core/dataset.py\u001b[0m in \u001b[0;36mreduce\u001b[0;34m(self, func, dim, keep_attrs, keepdims, numeric_only, **kwargs)\u001b[0m\n\u001b[1;32m   5882\u001b[0m                         \u001b[0;32melse\u001b[0m \u001b[0mreduce_dims\u001b[0m\u001b[0;34m\u001b[0m\u001b[0;34m\u001b[0m\u001b[0m\n\u001b[1;32m   5883\u001b[0m                     )\n\u001b[0;32m-> 5884\u001b[0;31m                     variables[name] = var.reduce(\n\u001b[0m\u001b[1;32m   5885\u001b[0m                         \u001b[0mfunc\u001b[0m\u001b[0;34m,\u001b[0m\u001b[0;34m\u001b[0m\u001b[0;34m\u001b[0m\u001b[0m\n\u001b[1;32m   5886\u001b[0m                         \u001b[0mdim\u001b[0m\u001b[0;34m=\u001b[0m\u001b[0mreduce_maybe_single\u001b[0m\u001b[0;34m,\u001b[0m\u001b[0;34m\u001b[0m\u001b[0;34m\u001b[0m\u001b[0m\n",
            "\u001b[0;32m/usr/local/lib/python3.9/dist-packages/xarray/core/variable.py\u001b[0m in \u001b[0;36mreduce\u001b[0;34m(self, func, dim, axis, keep_attrs, keepdims, **kwargs)\u001b[0m\n\u001b[1;32m   1945\u001b[0m                     \u001b[0;31m# like np.argmin which can't handle tuple arguments\u001b[0m\u001b[0;34m\u001b[0m\u001b[0;34m\u001b[0m\u001b[0m\n\u001b[1;32m   1946\u001b[0m                     \u001b[0maxis\u001b[0m \u001b[0;34m=\u001b[0m \u001b[0maxis\u001b[0m\u001b[0;34m[\u001b[0m\u001b[0;36m0\u001b[0m\u001b[0;34m]\u001b[0m\u001b[0;34m\u001b[0m\u001b[0;34m\u001b[0m\u001b[0m\n\u001b[0;32m-> 1947\u001b[0;31m                 \u001b[0mdata\u001b[0m \u001b[0;34m=\u001b[0m \u001b[0mfunc\u001b[0m\u001b[0;34m(\u001b[0m\u001b[0mself\u001b[0m\u001b[0;34m.\u001b[0m\u001b[0mdata\u001b[0m\u001b[0;34m,\u001b[0m \u001b[0maxis\u001b[0m\u001b[0;34m=\u001b[0m\u001b[0maxis\u001b[0m\u001b[0;34m,\u001b[0m \u001b[0;34m**\u001b[0m\u001b[0mkwargs\u001b[0m\u001b[0;34m)\u001b[0m\u001b[0;34m\u001b[0m\u001b[0;34m\u001b[0m\u001b[0m\n\u001b[0m\u001b[1;32m   1948\u001b[0m             \u001b[0;32melse\u001b[0m\u001b[0;34m:\u001b[0m\u001b[0;34m\u001b[0m\u001b[0;34m\u001b[0m\u001b[0m\n\u001b[1;32m   1949\u001b[0m                 \u001b[0mdata\u001b[0m \u001b[0;34m=\u001b[0m \u001b[0mfunc\u001b[0m\u001b[0;34m(\u001b[0m\u001b[0mself\u001b[0m\u001b[0;34m.\u001b[0m\u001b[0mdata\u001b[0m\u001b[0;34m,\u001b[0m \u001b[0;34m**\u001b[0m\u001b[0mkwargs\u001b[0m\u001b[0;34m)\u001b[0m\u001b[0;34m\u001b[0m\u001b[0;34m\u001b[0m\u001b[0m\n",
            "\u001b[0;32m/usr/local/lib/python3.9/dist-packages/xarray/core/duck_array_ops.py\u001b[0m in \u001b[0;36mf\u001b[0;34m(values, axis, skipna, **kwargs)\u001b[0m\n\u001b[1;32m    368\u001b[0m             \u001b[0;32mwith\u001b[0m \u001b[0mwarnings\u001b[0m\u001b[0;34m.\u001b[0m\u001b[0mcatch_warnings\u001b[0m\u001b[0;34m(\u001b[0m\u001b[0;34m)\u001b[0m\u001b[0;34m:\u001b[0m\u001b[0;34m\u001b[0m\u001b[0;34m\u001b[0m\u001b[0m\n\u001b[1;32m    369\u001b[0m                 \u001b[0mwarnings\u001b[0m\u001b[0;34m.\u001b[0m\u001b[0mfilterwarnings\u001b[0m\u001b[0;34m(\u001b[0m\u001b[0;34m\"ignore\"\u001b[0m\u001b[0;34m,\u001b[0m \u001b[0;34m\"All-NaN slice encountered\"\u001b[0m\u001b[0;34m)\u001b[0m\u001b[0;34m\u001b[0m\u001b[0;34m\u001b[0m\u001b[0m\n\u001b[0;32m--> 370\u001b[0;31m                 \u001b[0;32mreturn\u001b[0m \u001b[0mfunc\u001b[0m\u001b[0;34m(\u001b[0m\u001b[0mvalues\u001b[0m\u001b[0;34m,\u001b[0m \u001b[0maxis\u001b[0m\u001b[0;34m=\u001b[0m\u001b[0maxis\u001b[0m\u001b[0;34m,\u001b[0m \u001b[0;34m**\u001b[0m\u001b[0mkwargs\u001b[0m\u001b[0;34m)\u001b[0m\u001b[0;34m\u001b[0m\u001b[0;34m\u001b[0m\u001b[0m\n\u001b[0m\u001b[1;32m    371\u001b[0m         \u001b[0;32mexcept\u001b[0m \u001b[0mAttributeError\u001b[0m\u001b[0;34m:\u001b[0m\u001b[0;34m\u001b[0m\u001b[0;34m\u001b[0m\u001b[0m\n\u001b[1;32m    372\u001b[0m             \u001b[0;32mif\u001b[0m \u001b[0;32mnot\u001b[0m \u001b[0mis_duck_dask_array\u001b[0m\u001b[0;34m(\u001b[0m\u001b[0mvalues\u001b[0m\u001b[0;34m)\u001b[0m\u001b[0;34m:\u001b[0m\u001b[0;34m\u001b[0m\u001b[0;34m\u001b[0m\u001b[0m\n",
            "\u001b[0;32m/usr/local/lib/python3.9/dist-packages/xarray/core/nanops.py\u001b[0m in \u001b[0;36mnanmedian\u001b[0;34m(a, axis, out)\u001b[0m\n\u001b[1;32m    127\u001b[0m     \u001b[0;32mif\u001b[0m \u001b[0maxis\u001b[0m \u001b[0;32mis\u001b[0m \u001b[0;32mnot\u001b[0m \u001b[0;32mNone\u001b[0m \u001b[0;32mand\u001b[0m \u001b[0mlen\u001b[0m\u001b[0;34m(\u001b[0m\u001b[0mnp\u001b[0m\u001b[0;34m.\u001b[0m\u001b[0matleast_1d\u001b[0m\u001b[0;34m(\u001b[0m\u001b[0maxis\u001b[0m\u001b[0;34m)\u001b[0m\u001b[0;34m)\u001b[0m \u001b[0;34m==\u001b[0m \u001b[0ma\u001b[0m\u001b[0;34m.\u001b[0m\u001b[0mndim\u001b[0m\u001b[0;34m:\u001b[0m\u001b[0;34m\u001b[0m\u001b[0;34m\u001b[0m\u001b[0m\n\u001b[1;32m    128\u001b[0m         \u001b[0maxis\u001b[0m \u001b[0;34m=\u001b[0m \u001b[0;32mNone\u001b[0m\u001b[0;34m\u001b[0m\u001b[0;34m\u001b[0m\u001b[0m\n\u001b[0;32m--> 129\u001b[0;31m     \u001b[0;32mreturn\u001b[0m \u001b[0mnputils\u001b[0m\u001b[0;34m.\u001b[0m\u001b[0mnanmedian\u001b[0m\u001b[0;34m(\u001b[0m\u001b[0ma\u001b[0m\u001b[0;34m,\u001b[0m \u001b[0maxis\u001b[0m\u001b[0;34m=\u001b[0m\u001b[0maxis\u001b[0m\u001b[0;34m)\u001b[0m\u001b[0;34m\u001b[0m\u001b[0;34m\u001b[0m\u001b[0m\n\u001b[0m\u001b[1;32m    130\u001b[0m \u001b[0;34m\u001b[0m\u001b[0m\n\u001b[1;32m    131\u001b[0m \u001b[0;34m\u001b[0m\u001b[0m\n",
            "\u001b[0;32m/usr/local/lib/python3.9/dist-packages/xarray/core/nputils.py\u001b[0m in \u001b[0;36mf\u001b[0;34m(values, axis, **kwargs)\u001b[0m\n\u001b[1;32m    155\u001b[0m             \u001b[0mresult\u001b[0m \u001b[0;34m=\u001b[0m \u001b[0mbn_func\u001b[0m\u001b[0;34m(\u001b[0m\u001b[0mvalues\u001b[0m\u001b[0;34m,\u001b[0m \u001b[0maxis\u001b[0m\u001b[0;34m=\u001b[0m\u001b[0maxis\u001b[0m\u001b[0;34m,\u001b[0m \u001b[0;34m**\u001b[0m\u001b[0mkwargs\u001b[0m\u001b[0;34m)\u001b[0m\u001b[0;34m\u001b[0m\u001b[0;34m\u001b[0m\u001b[0m\n\u001b[1;32m    156\u001b[0m         \u001b[0;32melse\u001b[0m\u001b[0;34m:\u001b[0m\u001b[0;34m\u001b[0m\u001b[0;34m\u001b[0m\u001b[0m\n\u001b[0;32m--> 157\u001b[0;31m             \u001b[0mresult\u001b[0m \u001b[0;34m=\u001b[0m \u001b[0mgetattr\u001b[0m\u001b[0;34m(\u001b[0m\u001b[0mnpmodule\u001b[0m\u001b[0;34m,\u001b[0m \u001b[0mname\u001b[0m\u001b[0;34m)\u001b[0m\u001b[0;34m(\u001b[0m\u001b[0mvalues\u001b[0m\u001b[0;34m,\u001b[0m \u001b[0maxis\u001b[0m\u001b[0;34m=\u001b[0m\u001b[0maxis\u001b[0m\u001b[0;34m,\u001b[0m \u001b[0;34m**\u001b[0m\u001b[0mkwargs\u001b[0m\u001b[0;34m)\u001b[0m\u001b[0;34m\u001b[0m\u001b[0;34m\u001b[0m\u001b[0m\n\u001b[0m\u001b[1;32m    158\u001b[0m \u001b[0;34m\u001b[0m\u001b[0m\n\u001b[1;32m    159\u001b[0m         \u001b[0;32mreturn\u001b[0m \u001b[0mresult\u001b[0m\u001b[0;34m\u001b[0m\u001b[0;34m\u001b[0m\u001b[0m\n",
            "\u001b[0;32m/usr/local/lib/python3.9/dist-packages/numpy/core/overrides.py\u001b[0m in \u001b[0;36mnanmedian\u001b[0;34m(*args, **kwargs)\u001b[0m\n",
            "\u001b[0;32m/usr/local/lib/python3.9/dist-packages/dask/array/core.py\u001b[0m in \u001b[0;36m__array_function__\u001b[0;34m(self, func, types, args, kwargs)\u001b[0m\n\u001b[1;32m   1758\u001b[0m             \u001b[0mkwargs\u001b[0m\u001b[0;34m[\u001b[0m\u001b[0;34m\"like\"\u001b[0m\u001b[0;34m]\u001b[0m \u001b[0;34m=\u001b[0m \u001b[0mself\u001b[0m\u001b[0;34m\u001b[0m\u001b[0;34m\u001b[0m\u001b[0m\n\u001b[1;32m   1759\u001b[0m \u001b[0;34m\u001b[0m\u001b[0m\n\u001b[0;32m-> 1760\u001b[0;31m         \u001b[0;32mreturn\u001b[0m \u001b[0mda_func\u001b[0m\u001b[0;34m(\u001b[0m\u001b[0;34m*\u001b[0m\u001b[0margs\u001b[0m\u001b[0;34m,\u001b[0m \u001b[0;34m**\u001b[0m\u001b[0mkwargs\u001b[0m\u001b[0;34m)\u001b[0m\u001b[0;34m\u001b[0m\u001b[0;34m\u001b[0m\u001b[0m\n\u001b[0m\u001b[1;32m   1761\u001b[0m \u001b[0;34m\u001b[0m\u001b[0m\n\u001b[1;32m   1762\u001b[0m     \u001b[0;34m@\u001b[0m\u001b[0mproperty\u001b[0m\u001b[0;34m\u001b[0m\u001b[0;34m\u001b[0m\u001b[0m\n",
            "\u001b[0;32m/usr/local/lib/python3.9/dist-packages/dask/array/reductions.py\u001b[0m in \u001b[0;36mnanmedian\u001b[0;34m(a, axis, keepdims, out)\u001b[0m\n\u001b[1;32m   1781\u001b[0m     \"\"\"\n\u001b[1;32m   1782\u001b[0m     \u001b[0;32mif\u001b[0m \u001b[0maxis\u001b[0m \u001b[0;32mis\u001b[0m \u001b[0;32mNone\u001b[0m\u001b[0;34m:\u001b[0m\u001b[0;34m\u001b[0m\u001b[0;34m\u001b[0m\u001b[0m\n\u001b[0;32m-> 1783\u001b[0;31m         raise NotImplementedError(\n\u001b[0m\u001b[1;32m   1784\u001b[0m             \u001b[0;34m\"The da.nanmedian function only works along an axis or a subset of axes.  \"\u001b[0m\u001b[0;34m\u001b[0m\u001b[0;34m\u001b[0m\u001b[0m\n\u001b[1;32m   1785\u001b[0m             \u001b[0;34m\"The full algorithm is difficult to do in parallel\"\u001b[0m\u001b[0;34m\u001b[0m\u001b[0;34m\u001b[0m\u001b[0m\n",
            "\u001b[0;31mNotImplementedError\u001b[0m: The da.nanmedian function only works along an axis or a subset of axes.  The full algorithm is difficult to do in parallel"
          ]
        }
      ],
      "source": [
        "## Function call to extract red, green, blue, nir, NDVI, EVI, NDWI Values\n",
        "time_slice1 = \"2021-01-01/2021-01-08\"\n",
        "# time_slice2 = \"2021-04-01/2021-04-10\"\n",
        "# time_slice3 = \"2021-04-01/2021-04-10\"\n",
        "\n",
        "assets = ['red','green', 'blue', 'nir']\n",
        "mar_bands_set = []\n",
        "for coordinates in tqdm(crop_presence_data['Latitude and Longitude']):\n",
        "    mar_bands_set.append(get_sentinel2_data(coordinates,time_slice1,assets))\n",
        "\n",
        "mar_bands_set_data = pd.DataFrame(mar_bands_set,columns =['red','green', 'blue', 'nir', 'NDVI', 'EVI', 'NDWI'])"
      ],
      "id": "Uw-H9o5Grhio"
    },
    {
      "cell_type": "markdown",
      "id": "aa872546-7567-418c-af04-1d8b4fa5bd60",
      "metadata": {
        "id": "aa872546-7567-418c-af04-1d8b4fa5bd60"
      },
      "source": [
        "## Joining the predictor variables and response variables\n",
        "Now that we have extracted our predictor variables, we need to join them onto the response variable . We use the function <i><b>combine_two_datasets</b></i> to combine the predictor variables and response variables.The <i><b>concat</b></i> function from pandas comes in handy here."
      ]
    },
    {
      "cell_type": "code",
      "execution_count": null,
      "id": "96296d95-8290-4f26-80f9-9e221bfcfc81",
      "metadata": {
        "id": "96296d95-8290-4f26-80f9-9e221bfcfc81"
      },
      "outputs": [],
      "source": [
        "def combine_two_datasets(dataset1,dataset2,dataset3):\n",
        "    '''\n",
        "    Returns a  vertically concatenated dataset.\n",
        "    Attributes:\n",
        "    dataset1 - Dataset 1 to be combined\n",
        "    dataset2 - Dataset 2 to be combined\n",
        "    dataset3 - Dataset 3 to be combined\n",
        "    '''\n",
        "    data = pd.concat([dataset1,dataset2, dataset3], axis=1)\n",
        "    return data"
      ]
    },
    {
      "cell_type": "code",
      "execution_count": null,
      "id": "20fa2b5f-727b-4781-9ff4-cc70596cd3f0",
      "metadata": {
        "colab": {
          "base_uri": "https://localhost:8080/",
          "height": 206
        },
        "id": "20fa2b5f-727b-4781-9ff4-cc70596cd3f0",
        "outputId": "c6821005-342d-49f7-ea4b-e881fdbee3e6"
      },
      "outputs": [
        {
          "output_type": "execute_result",
          "data": {
            "text/plain": [
              "                     Latitude and Longitude Class of Land          red  \\\n",
              "0   (10.323727047081501, 105.2516346045924)          Rice  7292.765069   \n",
              "1  (10.322364360592521, 105.27843410554115)          Rice  7132.917177   \n",
              "2  (10.321455902933202, 105.25254306225168)          Rice  7311.049401   \n",
              "3  (10.324181275911162, 105.25118037576274)          Rice  7285.511695   \n",
              "4  (10.324635504740822, 105.27389181724476)          Rice  7187.133183   \n",
              "\n",
              "         green         blue          nir      NDVI       EVI      NDWI  \\\n",
              "0  7926.548200  8698.562936  7295.185228  0.000166 -0.000426  0.041478   \n",
              "1  7764.495189  8523.905037  7227.791845  0.006607 -0.017060  0.035799   \n",
              "2  7948.416967  8723.558773  7320.318102  0.000633 -0.001627  0.041136   \n",
              "3  7918.265336  8689.218664  7286.200781  0.000047 -0.000122  0.041571   \n",
              "4  7819.849887  8583.824727  7259.681988  0.005022 -0.012960  0.037148   \n",
              "\n",
              "         vh        vv       rvi  \n",
              "0  0.011432  0.194914  0.215377  \n",
              "1  0.009528  0.202875  0.175354  \n",
              "2  0.018935  0.169832  0.380575  \n",
              "3  0.012970  0.223264  0.213497  \n",
              "4  0.022346  0.197064  0.386082  "
            ],
            "text/html": [
              "\n",
              "  <div id=\"df-5ce3d7d4-4c82-4df9-b06f-edbd9c3cfe28\">\n",
              "    <div class=\"colab-df-container\">\n",
              "      <div>\n",
              "<style scoped>\n",
              "    .dataframe tbody tr th:only-of-type {\n",
              "        vertical-align: middle;\n",
              "    }\n",
              "\n",
              "    .dataframe tbody tr th {\n",
              "        vertical-align: top;\n",
              "    }\n",
              "\n",
              "    .dataframe thead th {\n",
              "        text-align: right;\n",
              "    }\n",
              "</style>\n",
              "<table border=\"1\" class=\"dataframe\">\n",
              "  <thead>\n",
              "    <tr style=\"text-align: right;\">\n",
              "      <th></th>\n",
              "      <th>Latitude and Longitude</th>\n",
              "      <th>Class of Land</th>\n",
              "      <th>red</th>\n",
              "      <th>green</th>\n",
              "      <th>blue</th>\n",
              "      <th>nir</th>\n",
              "      <th>NDVI</th>\n",
              "      <th>EVI</th>\n",
              "      <th>NDWI</th>\n",
              "      <th>vh</th>\n",
              "      <th>vv</th>\n",
              "      <th>rvi</th>\n",
              "    </tr>\n",
              "  </thead>\n",
              "  <tbody>\n",
              "    <tr>\n",
              "      <th>0</th>\n",
              "      <td>(10.323727047081501, 105.2516346045924)</td>\n",
              "      <td>Rice</td>\n",
              "      <td>7292.765069</td>\n",
              "      <td>7926.548200</td>\n",
              "      <td>8698.562936</td>\n",
              "      <td>7295.185228</td>\n",
              "      <td>0.000166</td>\n",
              "      <td>-0.000426</td>\n",
              "      <td>0.041478</td>\n",
              "      <td>0.011432</td>\n",
              "      <td>0.194914</td>\n",
              "      <td>0.215377</td>\n",
              "    </tr>\n",
              "    <tr>\n",
              "      <th>1</th>\n",
              "      <td>(10.322364360592521, 105.27843410554115)</td>\n",
              "      <td>Rice</td>\n",
              "      <td>7132.917177</td>\n",
              "      <td>7764.495189</td>\n",
              "      <td>8523.905037</td>\n",
              "      <td>7227.791845</td>\n",
              "      <td>0.006607</td>\n",
              "      <td>-0.017060</td>\n",
              "      <td>0.035799</td>\n",
              "      <td>0.009528</td>\n",
              "      <td>0.202875</td>\n",
              "      <td>0.175354</td>\n",
              "    </tr>\n",
              "    <tr>\n",
              "      <th>2</th>\n",
              "      <td>(10.321455902933202, 105.25254306225168)</td>\n",
              "      <td>Rice</td>\n",
              "      <td>7311.049401</td>\n",
              "      <td>7948.416967</td>\n",
              "      <td>8723.558773</td>\n",
              "      <td>7320.318102</td>\n",
              "      <td>0.000633</td>\n",
              "      <td>-0.001627</td>\n",
              "      <td>0.041136</td>\n",
              "      <td>0.018935</td>\n",
              "      <td>0.169832</td>\n",
              "      <td>0.380575</td>\n",
              "    </tr>\n",
              "    <tr>\n",
              "      <th>3</th>\n",
              "      <td>(10.324181275911162, 105.25118037576274)</td>\n",
              "      <td>Rice</td>\n",
              "      <td>7285.511695</td>\n",
              "      <td>7918.265336</td>\n",
              "      <td>8689.218664</td>\n",
              "      <td>7286.200781</td>\n",
              "      <td>0.000047</td>\n",
              "      <td>-0.000122</td>\n",
              "      <td>0.041571</td>\n",
              "      <td>0.012970</td>\n",
              "      <td>0.223264</td>\n",
              "      <td>0.213497</td>\n",
              "    </tr>\n",
              "    <tr>\n",
              "      <th>4</th>\n",
              "      <td>(10.324635504740822, 105.27389181724476)</td>\n",
              "      <td>Rice</td>\n",
              "      <td>7187.133183</td>\n",
              "      <td>7819.849887</td>\n",
              "      <td>8583.824727</td>\n",
              "      <td>7259.681988</td>\n",
              "      <td>0.005022</td>\n",
              "      <td>-0.012960</td>\n",
              "      <td>0.037148</td>\n",
              "      <td>0.022346</td>\n",
              "      <td>0.197064</td>\n",
              "      <td>0.386082</td>\n",
              "    </tr>\n",
              "  </tbody>\n",
              "</table>\n",
              "</div>\n",
              "      <button class=\"colab-df-convert\" onclick=\"convertToInteractive('df-5ce3d7d4-4c82-4df9-b06f-edbd9c3cfe28')\"\n",
              "              title=\"Convert this dataframe to an interactive table.\"\n",
              "              style=\"display:none;\">\n",
              "        \n",
              "  <svg xmlns=\"http://www.w3.org/2000/svg\" height=\"24px\"viewBox=\"0 0 24 24\"\n",
              "       width=\"24px\">\n",
              "    <path d=\"M0 0h24v24H0V0z\" fill=\"none\"/>\n",
              "    <path d=\"M18.56 5.44l.94 2.06.94-2.06 2.06-.94-2.06-.94-.94-2.06-.94 2.06-2.06.94zm-11 1L8.5 8.5l.94-2.06 2.06-.94-2.06-.94L8.5 2.5l-.94 2.06-2.06.94zm10 10l.94 2.06.94-2.06 2.06-.94-2.06-.94-.94-2.06-.94 2.06-2.06.94z\"/><path d=\"M17.41 7.96l-1.37-1.37c-.4-.4-.92-.59-1.43-.59-.52 0-1.04.2-1.43.59L10.3 9.45l-7.72 7.72c-.78.78-.78 2.05 0 2.83L4 21.41c.39.39.9.59 1.41.59.51 0 1.02-.2 1.41-.59l7.78-7.78 2.81-2.81c.8-.78.8-2.07 0-2.86zM5.41 20L4 18.59l7.72-7.72 1.47 1.35L5.41 20z\"/>\n",
              "  </svg>\n",
              "      </button>\n",
              "      \n",
              "  <style>\n",
              "    .colab-df-container {\n",
              "      display:flex;\n",
              "      flex-wrap:wrap;\n",
              "      gap: 12px;\n",
              "    }\n",
              "\n",
              "    .colab-df-convert {\n",
              "      background-color: #E8F0FE;\n",
              "      border: none;\n",
              "      border-radius: 50%;\n",
              "      cursor: pointer;\n",
              "      display: none;\n",
              "      fill: #1967D2;\n",
              "      height: 32px;\n",
              "      padding: 0 0 0 0;\n",
              "      width: 32px;\n",
              "    }\n",
              "\n",
              "    .colab-df-convert:hover {\n",
              "      background-color: #E2EBFA;\n",
              "      box-shadow: 0px 1px 2px rgba(60, 64, 67, 0.3), 0px 1px 3px 1px rgba(60, 64, 67, 0.15);\n",
              "      fill: #174EA6;\n",
              "    }\n",
              "\n",
              "    [theme=dark] .colab-df-convert {\n",
              "      background-color: #3B4455;\n",
              "      fill: #D2E3FC;\n",
              "    }\n",
              "\n",
              "    [theme=dark] .colab-df-convert:hover {\n",
              "      background-color: #434B5C;\n",
              "      box-shadow: 0px 1px 3px 1px rgba(0, 0, 0, 0.15);\n",
              "      filter: drop-shadow(0px 1px 2px rgba(0, 0, 0, 0.3));\n",
              "      fill: #FFFFFF;\n",
              "    }\n",
              "  </style>\n",
              "\n",
              "      <script>\n",
              "        const buttonEl =\n",
              "          document.querySelector('#df-5ce3d7d4-4c82-4df9-b06f-edbd9c3cfe28 button.colab-df-convert');\n",
              "        buttonEl.style.display =\n",
              "          google.colab.kernel.accessAllowed ? 'block' : 'none';\n",
              "\n",
              "        async function convertToInteractive(key) {\n",
              "          const element = document.querySelector('#df-5ce3d7d4-4c82-4df9-b06f-edbd9c3cfe28');\n",
              "          const dataTable =\n",
              "            await google.colab.kernel.invokeFunction('convertToInteractive',\n",
              "                                                     [key], {});\n",
              "          if (!dataTable) return;\n",
              "\n",
              "          const docLinkHtml = 'Like what you see? Visit the ' +\n",
              "            '<a target=\"_blank\" href=https://colab.research.google.com/notebooks/data_table.ipynb>data table notebook</a>'\n",
              "            + ' to learn more about interactive tables.';\n",
              "          element.innerHTML = '';\n",
              "          dataTable['output_type'] = 'display_data';\n",
              "          await google.colab.output.renderOutput(dataTable, element);\n",
              "          const docLink = document.createElement('div');\n",
              "          docLink.innerHTML = docLinkHtml;\n",
              "          element.appendChild(docLink);\n",
              "        }\n",
              "      </script>\n",
              "    </div>\n",
              "  </div>\n",
              "  "
            ]
          },
          "metadata": {},
          "execution_count": 58
        }
      ],
      "source": [
        "crop_data = combine_two_datasets(crop_presence_data, mar_bands_set_data, vh_vv_data)\n",
        "crop_data.head()\n"
      ]
    },
    {
      "cell_type": "markdown",
      "source": [
        "SVD Stuff\n",
        "\n",
        "compute the SVD of the standardized dataset\n",
        "\n",
        "Choose the components that explains a significant portion of the variance in the data.\n",
        "\n",
        "Keep only the sigma values you want\n",
        "\n",
        "Reconstruct the dataset by multiplying the truncated U, S, and V matrices back together.\n",
        "\n",
        "The resulting dataset will have reduced noise and only include the most important features that explain the most variance in the data\n"
      ],
      "metadata": {
        "id": "lWNAiOD12w57"
      },
      "id": "lWNAiOD12w57"
    },
    {
      "cell_type": "code",
      "source": [
        "#Compute SVD for two sperate matrices(rice and non rice)\n",
        "#Then take U1U2... vectors of both\n"
      ],
      "metadata": {
        "id": "5jtt15_ACTEq"
      },
      "id": "5jtt15_ACTEq",
      "execution_count": null,
      "outputs": []
    },
    {
      "cell_type": "markdown",
      "source": [],
      "metadata": {
        "id": "gD1c1IdmCSt7"
      },
      "id": "gD1c1IdmCSt7"
    },
    {
      "cell_type": "code",
      "source": [],
      "metadata": {
        "id": "XcmDzBRY4V0d"
      },
      "id": "XcmDzBRY4V0d",
      "execution_count": null,
      "outputs": []
    },
    {
      "cell_type": "markdown",
      "id": "fd4af7b5-41d1-4822-8d78-5e4bdc84b287",
      "metadata": {
        "id": "fd4af7b5-41d1-4822-8d78-5e4bdc84b287"
      },
      "source": [
        "## Model Building\n"
      ]
    },
    {
      "cell_type": "code",
      "execution_count": null,
      "id": "536d53ad-2697-4283-8ceb-db94f93bad7e",
      "metadata": {
        "id": "536d53ad-2697-4283-8ceb-db94f93bad7e",
        "colab": {
          "base_uri": "https://localhost:8080/",
          "height": 206
        },
        "outputId": "50d7ac31-9fcf-4a56-859b-11d5b39bfa39"
      },
      "outputs": [
        {
          "output_type": "execute_result",
          "data": {
            "text/plain": [
              "         green          nir      NDVI       EVI      NDWI        vh        vv  \\\n",
              "0  7926.548200  7295.185228  0.000166 -0.000426  0.041478  0.011432  0.194914   \n",
              "1  7764.495189  7227.791845  0.006607 -0.017060  0.035799  0.009528  0.202875   \n",
              "2  7948.416967  7320.318102  0.000633 -0.001627  0.041136  0.018935  0.169832   \n",
              "3  7918.265336  7286.200781  0.000047 -0.000122  0.041571  0.012970  0.223264   \n",
              "4  7819.849887  7259.681988  0.005022 -0.012960  0.037148  0.022346  0.197064   \n",
              "\n",
              "        rvi Class of Land  \n",
              "0  0.215377          Rice  \n",
              "1  0.175354          Rice  \n",
              "2  0.380575          Rice  \n",
              "3  0.213497          Rice  \n",
              "4  0.386082          Rice  "
            ],
            "text/html": [
              "\n",
              "  <div id=\"df-ba4ff6e4-5b87-4572-b53a-dde7c0a02853\">\n",
              "    <div class=\"colab-df-container\">\n",
              "      <div>\n",
              "<style scoped>\n",
              "    .dataframe tbody tr th:only-of-type {\n",
              "        vertical-align: middle;\n",
              "    }\n",
              "\n",
              "    .dataframe tbody tr th {\n",
              "        vertical-align: top;\n",
              "    }\n",
              "\n",
              "    .dataframe thead th {\n",
              "        text-align: right;\n",
              "    }\n",
              "</style>\n",
              "<table border=\"1\" class=\"dataframe\">\n",
              "  <thead>\n",
              "    <tr style=\"text-align: right;\">\n",
              "      <th></th>\n",
              "      <th>green</th>\n",
              "      <th>nir</th>\n",
              "      <th>NDVI</th>\n",
              "      <th>EVI</th>\n",
              "      <th>NDWI</th>\n",
              "      <th>vh</th>\n",
              "      <th>vv</th>\n",
              "      <th>rvi</th>\n",
              "      <th>Class of Land</th>\n",
              "    </tr>\n",
              "  </thead>\n",
              "  <tbody>\n",
              "    <tr>\n",
              "      <th>0</th>\n",
              "      <td>7926.548200</td>\n",
              "      <td>7295.185228</td>\n",
              "      <td>0.000166</td>\n",
              "      <td>-0.000426</td>\n",
              "      <td>0.041478</td>\n",
              "      <td>0.011432</td>\n",
              "      <td>0.194914</td>\n",
              "      <td>0.215377</td>\n",
              "      <td>Rice</td>\n",
              "    </tr>\n",
              "    <tr>\n",
              "      <th>1</th>\n",
              "      <td>7764.495189</td>\n",
              "      <td>7227.791845</td>\n",
              "      <td>0.006607</td>\n",
              "      <td>-0.017060</td>\n",
              "      <td>0.035799</td>\n",
              "      <td>0.009528</td>\n",
              "      <td>0.202875</td>\n",
              "      <td>0.175354</td>\n",
              "      <td>Rice</td>\n",
              "    </tr>\n",
              "    <tr>\n",
              "      <th>2</th>\n",
              "      <td>7948.416967</td>\n",
              "      <td>7320.318102</td>\n",
              "      <td>0.000633</td>\n",
              "      <td>-0.001627</td>\n",
              "      <td>0.041136</td>\n",
              "      <td>0.018935</td>\n",
              "      <td>0.169832</td>\n",
              "      <td>0.380575</td>\n",
              "      <td>Rice</td>\n",
              "    </tr>\n",
              "    <tr>\n",
              "      <th>3</th>\n",
              "      <td>7918.265336</td>\n",
              "      <td>7286.200781</td>\n",
              "      <td>0.000047</td>\n",
              "      <td>-0.000122</td>\n",
              "      <td>0.041571</td>\n",
              "      <td>0.012970</td>\n",
              "      <td>0.223264</td>\n",
              "      <td>0.213497</td>\n",
              "      <td>Rice</td>\n",
              "    </tr>\n",
              "    <tr>\n",
              "      <th>4</th>\n",
              "      <td>7819.849887</td>\n",
              "      <td>7259.681988</td>\n",
              "      <td>0.005022</td>\n",
              "      <td>-0.012960</td>\n",
              "      <td>0.037148</td>\n",
              "      <td>0.022346</td>\n",
              "      <td>0.197064</td>\n",
              "      <td>0.386082</td>\n",
              "      <td>Rice</td>\n",
              "    </tr>\n",
              "  </tbody>\n",
              "</table>\n",
              "</div>\n",
              "      <button class=\"colab-df-convert\" onclick=\"convertToInteractive('df-ba4ff6e4-5b87-4572-b53a-dde7c0a02853')\"\n",
              "              title=\"Convert this dataframe to an interactive table.\"\n",
              "              style=\"display:none;\">\n",
              "        \n",
              "  <svg xmlns=\"http://www.w3.org/2000/svg\" height=\"24px\"viewBox=\"0 0 24 24\"\n",
              "       width=\"24px\">\n",
              "    <path d=\"M0 0h24v24H0V0z\" fill=\"none\"/>\n",
              "    <path d=\"M18.56 5.44l.94 2.06.94-2.06 2.06-.94-2.06-.94-.94-2.06-.94 2.06-2.06.94zm-11 1L8.5 8.5l.94-2.06 2.06-.94-2.06-.94L8.5 2.5l-.94 2.06-2.06.94zm10 10l.94 2.06.94-2.06 2.06-.94-2.06-.94-.94-2.06-.94 2.06-2.06.94z\"/><path d=\"M17.41 7.96l-1.37-1.37c-.4-.4-.92-.59-1.43-.59-.52 0-1.04.2-1.43.59L10.3 9.45l-7.72 7.72c-.78.78-.78 2.05 0 2.83L4 21.41c.39.39.9.59 1.41.59.51 0 1.02-.2 1.41-.59l7.78-7.78 2.81-2.81c.8-.78.8-2.07 0-2.86zM5.41 20L4 18.59l7.72-7.72 1.47 1.35L5.41 20z\"/>\n",
              "  </svg>\n",
              "      </button>\n",
              "      \n",
              "  <style>\n",
              "    .colab-df-container {\n",
              "      display:flex;\n",
              "      flex-wrap:wrap;\n",
              "      gap: 12px;\n",
              "    }\n",
              "\n",
              "    .colab-df-convert {\n",
              "      background-color: #E8F0FE;\n",
              "      border: none;\n",
              "      border-radius: 50%;\n",
              "      cursor: pointer;\n",
              "      display: none;\n",
              "      fill: #1967D2;\n",
              "      height: 32px;\n",
              "      padding: 0 0 0 0;\n",
              "      width: 32px;\n",
              "    }\n",
              "\n",
              "    .colab-df-convert:hover {\n",
              "      background-color: #E2EBFA;\n",
              "      box-shadow: 0px 1px 2px rgba(60, 64, 67, 0.3), 0px 1px 3px 1px rgba(60, 64, 67, 0.15);\n",
              "      fill: #174EA6;\n",
              "    }\n",
              "\n",
              "    [theme=dark] .colab-df-convert {\n",
              "      background-color: #3B4455;\n",
              "      fill: #D2E3FC;\n",
              "    }\n",
              "\n",
              "    [theme=dark] .colab-df-convert:hover {\n",
              "      background-color: #434B5C;\n",
              "      box-shadow: 0px 1px 3px 1px rgba(0, 0, 0, 0.15);\n",
              "      filter: drop-shadow(0px 1px 2px rgba(0, 0, 0, 0.3));\n",
              "      fill: #FFFFFF;\n",
              "    }\n",
              "  </style>\n",
              "\n",
              "      <script>\n",
              "        const buttonEl =\n",
              "          document.querySelector('#df-ba4ff6e4-5b87-4572-b53a-dde7c0a02853 button.colab-df-convert');\n",
              "        buttonEl.style.display =\n",
              "          google.colab.kernel.accessAllowed ? 'block' : 'none';\n",
              "\n",
              "        async function convertToInteractive(key) {\n",
              "          const element = document.querySelector('#df-ba4ff6e4-5b87-4572-b53a-dde7c0a02853');\n",
              "          const dataTable =\n",
              "            await google.colab.kernel.invokeFunction('convertToInteractive',\n",
              "                                                     [key], {});\n",
              "          if (!dataTable) return;\n",
              "\n",
              "          const docLinkHtml = 'Like what you see? Visit the ' +\n",
              "            '<a target=\"_blank\" href=https://colab.research.google.com/notebooks/data_table.ipynb>data table notebook</a>'\n",
              "            + ' to learn more about interactive tables.';\n",
              "          element.innerHTML = '';\n",
              "          dataTable['output_type'] = 'display_data';\n",
              "          await google.colab.output.renderOutput(dataTable, element);\n",
              "          const docLink = document.createElement('div');\n",
              "          docLink.innerHTML = docLinkHtml;\n",
              "          element.appendChild(docLink);\n",
              "        }\n",
              "      </script>\n",
              "    </div>\n",
              "  </div>\n",
              "  "
            ]
          },
          "metadata": {},
          "execution_count": 59
        }
      ],
      "source": [
        "#crop_data = pd.read_csv('TRAINING_EY.xlsx - Sheet1.csv')\n",
        "crop_data = crop_data[['green', 'nir', 'NDVI', 'EVI', 'NDWI', 'vh', 'vv', 'rvi', 'Class of Land']]\n",
        "\n",
        "\n",
        "#crop_data = crop_data[crop_data.columns[1:]]\n",
        "crop_data.head()\n"
      ]
    },
    {
      "cell_type": "markdown",
      "id": "fca40658-8003-4195-b0d1-5efe29929ac9",
      "metadata": {
        "id": "fca40658-8003-4195-b0d1-5efe29929ac9"
      },
      "source": [
        "### Train and Test Split"
      ]
    },
    {
      "cell_type": "markdown",
      "id": "b46507f5-cfd1-43d8-8b05-aa09ce8016af",
      "metadata": {
        "id": "b46507f5-cfd1-43d8-8b05-aa09ce8016af"
      },
      "source": [
        "<p align=\"justify\">We will now split the data into 70% training data and 30% test data. Scikit-learn alias “sklearn” is a robust library for machine learning in Python. The scikit-learn library has a <i><b>model_selection</b></i> module in which there is a splitting function <i><b>train_test_split</b></i>. You can use the same.</p>"
      ]
    },
    {
      "cell_type": "code",
      "execution_count": null,
      "id": "062ac03d-245d-49af-82d9-56d3ac581e85",
      "metadata": {
        "id": "062ac03d-245d-49af-82d9-56d3ac581e85"
      },
      "outputs": [],
      "source": [
        "X = crop_data.drop(columns=['Class of Land']).values\n",
        "y = crop_data ['Class of Land'].values\n",
        "X_train, X_test, y_train, y_test = train_test_split(X, y, test_size=0.5,stratify=y,random_state=40)"
      ]
    },
    {
      "cell_type": "markdown",
      "id": "b031607b-9e71-46c8-beb1-3610ab59c56a",
      "metadata": {
        "id": "b031607b-9e71-46c8-beb1-3610ab59c56a"
      },
      "source": [
        "### Feature Scaling"
      ]
    },
    {
      "cell_type": "code",
      "execution_count": null,
      "id": "1506aede-aca0-4acc-a9b7-c7547dd9ed0a",
      "metadata": {
        "id": "1506aede-aca0-4acc-a9b7-c7547dd9ed0a"
      },
      "outputs": [],
      "source": [
        "sc = StandardScaler()\n",
        "X_train = sc.fit_transform(X_train)\n",
        "X_test = sc.transform(X_test)"
      ]
    },
    {
      "cell_type": "markdown",
      "id": "ed1de27d-2b8b-4a3d-bf83-66f69f435402",
      "metadata": {
        "id": "ed1de27d-2b8b-4a3d-bf83-66f69f435402"
      },
      "source": [
        "### Model Training"
      ]
    },
    {
      "cell_type": "code",
      "source": [
        "import pandas as pd\n",
        "import time\n",
        "import numpy as np"
      ],
      "metadata": {
        "id": "Dnubc04MZjLd"
      },
      "id": "Dnubc04MZjLd",
      "execution_count": null,
      "outputs": []
    },
    {
      "cell_type": "code",
      "execution_count": null,
      "id": "888f7099-afbf-47d5-a214-00ae0e11bf66",
      "metadata": {
        "colab": {
          "base_uri": "https://localhost:8080/",
          "height": 523
        },
        "id": "888f7099-afbf-47d5-a214-00ae0e11bf66",
        "outputId": "000be2c8-4fcf-4ed5-87bc-16017df973a1"
      },
      "outputs": [
        {
          "output_type": "stream",
          "name": "stdout",
          "text": [
            "[0.16075453 0.12037869 0.17952392 0.13705    0.14466644 0.16429167\n",
            " 0.034758   0.05857675]\n"
          ]
        },
        {
          "output_type": "display_data",
          "data": {
            "text/plain": [
              "<Figure size 640x480 with 1 Axes>"
            ],
            "image/png": "[encoded data removed]"
          },
          "metadata": {}
        }
      ],
      "source": [
        "model = RandomForestClassifier(n_estimators=100)\n",
        "\n",
        "\n",
        "\n",
        "model.fit(X_train,y_train)\n",
        "\n",
        "\n",
        "\n",
        "importances = model.feature_importances_\n",
        "std = np.std([tree.feature_importances_ for tree in model.estimators_], axis=0)\n",
        "\n",
        "forest_importances = pd.Series(importances)\n",
        "\n",
        "fig, ax = plt.subplots()\n",
        "forest_importances.plot.bar(yerr=std, ax=ax)\n",
        "ax.set_title(\"Feature importances using MDI\")\n",
        "ax.set_ylabel(\"Mean decrease in impurity\")\n",
        "fig.tight_layout()\n",
        "print(model.feature_importances_)"
      ]
    },
    {
      "cell_type": "code",
      "source": [
        "from sklearn.datasets import make_hastie_10_2\n",
        "from sklearn.ensemble import GradientBoostingClassifier\n",
        "\n",
        "clf = GradientBoostingClassifier(n_estimators=100).fit(X_train, y_train)"
      ],
      "metadata": {
        "id": "SuOkVv5g4iIE"
      },
      "id": "SuOkVv5g4iIE",
      "execution_count": null,
      "outputs": []
    },
    {
      "cell_type": "markdown",
      "id": "e87f54ac-ccd9-43a0-a53c-3403ee56c43d",
      "metadata": {
        "id": "e87f54ac-ccd9-43a0-a53c-3403ee56c43d"
      },
      "source": [
        "## Model Evaluation"
      ]
    },
    {
      "cell_type": "markdown",
      "id": "35ad0925-b550-4b26-ae96-2ec160ae3dff",
      "metadata": {
        "tags": [],
        "id": "35ad0925-b550-4b26-ae96-2ec160ae3dff"
      },
      "source": [
        "### In-Sample Evaluation\n",
        "<p align=\"Jutisfy\"> We will be generating a classification report and a confusion matrix for the training data. It must be stressed that this is in-sample performance testing , which is the performance testing on the training dataset. These metrics are NOT truly indicative of the model's performance.</p>"
      ]
    },
    {
      "cell_type": "markdown",
      "id": "fab57db4-c7e8-4ff2-ac31-eea3f7eab64f",
      "metadata": {
        "id": "fab57db4-c7e8-4ff2-ac31-eea3f7eab64f"
      },
      "source": [
        "In this section, we make predictions on the training set and store them in the <b><i>insample_ predictions</i></b> variable. A confusion matrix is generated to gauge the robustness of the model."
      ]
    },
    {
      "cell_type": "code",
      "execution_count": null,
      "id": "a7a4196f-226e-4c52-8a64-bc00535bc97c",
      "metadata": {
        "id": "a7a4196f-226e-4c52-8a64-bc00535bc97c"
      },
      "outputs": [],
      "source": [
        "insample_predictions = model.predict(X_train)"
      ]
    },
    {
      "cell_type": "code",
      "source": [
        "insample_predictions = clf.predict(X_train)"
      ],
      "metadata": {
        "id": "D32RTPCw5CK4"
      },
      "id": "D32RTPCw5CK4",
      "execution_count": null,
      "outputs": []
    },
    {
      "cell_type": "code",
      "execution_count": null,
      "id": "e131de89-a22d-4912-9f9b-6c7a12769c6c",
      "metadata": {
        "colab": {
          "base_uri": "https://localhost:8080/"
        },
        "id": "e131de89-a22d-4912-9f9b-6c7a12769c6c",
        "outputId": "d96c0dca-472b-4523-c553-ca50c2e5017a"
      },
      "outputs": [
        {
          "output_type": "stream",
          "name": "stdout",
          "text": [
            "Insample Accuracy 100.00%\n",
            "              precision    recall  f1-score   support\n",
            "\n",
            "    Non Rice       1.00      1.00      1.00       150\n",
            "        Rice       1.00      1.00      1.00       150\n",
            "\n",
            "    accuracy                           1.00       300\n",
            "   macro avg       1.00      1.00      1.00       300\n",
            "weighted avg       1.00      1.00      1.00       300\n",
            "\n"
          ]
        }
      ],
      "source": [
        "print(\"Insample Accuracy {0:.2f}%\".format(100*accuracy_score(insample_predictions,y_train)))\n",
        "print(classification_report(insample_predictions,y_train))"
      ]
    },
    {
      "cell_type": "markdown",
      "id": "e847aa72-37b8-498b-bd63-4130d1366b7e",
      "metadata": {
        "id": "e847aa72-37b8-498b-bd63-4130d1366b7e"
      },
      "source": [
        "<p> For plotting a confusion matrix we define the function <b><i>plot_confusion_matrix</i></b>."
      ]
    },
    {
      "cell_type": "code",
      "execution_count": null,
      "id": "bb97e054-6e73-4d90-89e2-36ce094721f5",
      "metadata": {
        "id": "bb97e054-6e73-4d90-89e2-36ce094721f5"
      },
      "outputs": [],
      "source": [
        "def plot_confusion_matrix(true_value,predicted_value,title,labels):\n",
        "    '''\n",
        "    Plots a confusion matrix.\n",
        "    Attributes:\n",
        "    true_value - The ground truth value for comparision.\n",
        "    predicted_value - The values predicted by the model.\n",
        "    title - Title of the plot.\n",
        "    labels - The x and y labels of the plot.\n",
        "    '''\n",
        "    cm = confusion_matrix(true_value,predicted_value)\n",
        "    ax= plt.subplot()\n",
        "    sns.heatmap(cm, annot=True, fmt='g', ax=ax, cmap='Blues');\n",
        "    ax.set_xlabel('Predicted labels');\n",
        "    ax.set_ylabel('True labels');\n",
        "    ax.set_title(title);\n",
        "    ax.xaxis.set_ticklabels(labels);\n",
        "    ax.yaxis.set_ticklabels(labels);"
      ]
    },
    {
      "cell_type": "code",
      "execution_count": null,
      "id": "99c77326-b7d5-4dc4-8101-96bece8aceb2",
      "metadata": {
        "colab": {
          "base_uri": "https://localhost:8080/",
          "height": 472
        },
        "id": "99c77326-b7d5-4dc4-8101-96bece8aceb2",
        "outputId": "0c70029b-5775-440e-a1be-8fd9c0540746"
      },
      "outputs": [
        {
          "output_type": "display_data",
          "data": {
            "text/plain": [
              "<Figure size 640x480 with 2 Axes>"
            ],
            "image/png": "[encoded data removed]"
          },
          "metadata": {}
        }
      ],
      "source": [
        "plot_confusion_matrix(y_train,insample_predictions,\"Model Level 1: Random Forest Model In-Sample Results\",['Rice', 'Non Rice'])"
      ]
    },
    {
      "cell_type": "markdown",
      "id": "e4fd9f2d-1add-499a-b692-f616ec02871d",
      "metadata": {
        "id": "e4fd9f2d-1add-499a-b692-f616ec02871d"
      },
      "source": [
        "### Out-Sample Evaluation"
      ]
    },
    {
      "cell_type": "code",
      "execution_count": null,
      "id": "0d7324d1-35fd-463f-9734-f2ad1552ae52",
      "metadata": {
        "id": "0d7324d1-35fd-463f-9734-f2ad1552ae52"
      },
      "outputs": [],
      "source": [
        "outsample_predictions = model.predict(X_test)"
      ]
    },
    {
      "cell_type": "code",
      "source": [
        "outsample_predictions = clf.predict(X_test)"
      ],
      "metadata": {
        "id": "OEZfyZVE5L4R"
      },
      "id": "OEZfyZVE5L4R",
      "execution_count": null,
      "outputs": []
    },
    {
      "cell_type": "code",
      "execution_count": null,
      "id": "4fdec320-a85c-49b9-8177-a65d5b85317a",
      "metadata": {
        "colab": {
          "base_uri": "https://localhost:8080/"
        },
        "id": "4fdec320-a85c-49b9-8177-a65d5b85317a",
        "outputId": "537e3bc1-00f2-401c-9af0-5690dfe47131"
      },
      "outputs": [
        {
          "output_type": "stream",
          "name": "stdout",
          "text": [
            "Accuracy 100.00%\n",
            "              precision    recall  f1-score   support\n",
            "\n",
            "    Non Rice       1.00      1.00      1.00       150\n",
            "        Rice       1.00      1.00      1.00       150\n",
            "\n",
            "    accuracy                           1.00       300\n",
            "   macro avg       1.00      1.00      1.00       300\n",
            "weighted avg       1.00      1.00      1.00       300\n",
            "\n"
          ]
        }
      ],
      "source": [
        "print(\"Accuracy {0:.2f}%\".format(100*accuracy_score(outsample_predictions, y_test)))\n",
        "print(classification_report(y_test, outsample_predictions))\n"
      ]
    },
    {
      "cell_type": "code",
      "execution_count": null,
      "id": "da5ed827-f3b8-47a2-865c-61bd2cd9621c",
      "metadata": {
        "colab": {
          "base_uri": "https://localhost:8080/",
          "height": 472
        },
        "id": "da5ed827-f3b8-47a2-865c-61bd2cd9621c",
        "outputId": "97494013-fc8a-4e15-cdea-8d11a4bdebc6"
      },
      "outputs": [
        {
          "output_type": "display_data",
          "data": {
            "text/plain": [
              "<Figure size 640x480 with 2 Axes>"
            ],
            "image/png": "[encoded data removed]"
          },
          "metadata": {}
        }
      ],
      "source": [
        "plot_confusion_matrix(y_test, outsample_predictions,\"Model Level 1: Random Forest Model Out-Sample Results\",['Rice', 'Non Rice'])"
      ]
    },
    {
      "cell_type": "markdown",
      "id": "2629f3f5-5a51-45d7-9c68-75b969101405",
      "metadata": {
        "id": "2629f3f5-5a51-45d7-9c68-75b969101405"
      },
      "source": [
        "## Submission"
      ]
    },
    {
      "cell_type": "code",
      "source": [
        "from google.colab import files\n",
        "uploaded = files.upload()"
      ],
      "metadata": {
        "colab": {
          "base_uri": "https://localhost:8080/",
          "height": 73
        },
        "id": "DP9f190gcDaH",
        "outputId": "2a3bd98e-1552-4f55-89e9-8275ad98b83d"
      },
      "id": "DP9f190gcDaH",
      "execution_count": null,
      "outputs": [
        {
          "output_type": "display_data",
          "data": {
            "text/plain": [
              "<IPython.core.display.HTML object>"
            ],
            "text/html": [
              "\n",
              "     <input type=\"file\" id=\"files-bfcfe345-d47b-49bd-a638-84d17dfc1ffb\" name=\"files[]\" multiple disabled\n",
              "        style=\"border:none\" />\n",
              "     <output id=\"result-bfcfe345-d47b-49bd-a638-84d17dfc1ffb\">\n",
              "      Upload widget is only available when the cell has been executed in the\n",
              "      current browser session. Please rerun this cell to enable.\n",
              "      </output>\n",
              "      <script>// Copyright 2017 Google LLC\n",
              "//\n",
              "// Licensed under the Apache License, Version 2.0 (the \"License\");\n",
              "// you may not use this file except in compliance with the License.\n",
              "// You may obtain a copy of the License at\n",
              "//\n",
              "//      http://www.apache.org/licenses/LICENSE-2.0\n",
              "//\n",
              "// Unless required by applicable law or agreed to in writing, software\n",
              "// distributed under the License is distributed on an \"AS IS\" BASIS,\n",
              "// WITHOUT WARRANTIES OR CONDITIONS OF ANY KIND, either express or implied.\n",
              "// See the License for the specific language governing permissions and\n",
              "// limitations under the License.\n",
              "\n",
              "/**\n",
              " * @fileoverview Helpers for google.colab Python module.\n",
              " */\n",
              "(function(scope) {\n",
              "function span(text, styleAttributes = {}) {\n",
              "  const element = document.createElement('span');\n",
              "  element.textContent = text;\n",
              "  for (const key of Object.keys(styleAttributes)) {\n",
              "    element.style[key] = styleAttributes[key];\n",
              "  }\n",
              "  return element;\n",
              "}\n",
              "\n",
              "// Max number of bytes which will be uploaded at a time.\n",
              "const MAX_PAYLOAD_SIZE = 100 * 1024;\n",
              "\n",
              "function _uploadFiles(inputId, outputId) {\n",
              "  const steps = uploadFilesStep(inputId, outputId);\n",
              "  const outputElement = document.getElementById(outputId);\n",
              "  // Cache steps on the outputElement to make it available for the next call\n",
              "  // to uploadFilesContinue from Python.\n",
              "  outputElement.steps = steps;\n",
              "\n",
              "  return _uploadFilesContinue(outputId);\n",
              "}\n",
              "\n",
              "// This is roughly an async generator (not supported in the browser yet),\n",
              "// where there are multiple asynchronous steps and the Python side is going\n",
              "// to poll for completion of each step.\n",
              "// This uses a Promise to block the python side on completion of each step,\n",
              "// then passes the result of the previous step as the input to the next step.\n",
              "function _uploadFilesContinue(outputId) {\n",
              "  const outputElement = document.getElementById(outputId);\n",
              "  const steps = outputElement.steps;\n",
              "\n",
              "  const next = steps.next(outputElement.lastPromiseValue);\n",
              "  return Promise.resolve(next.value.promise).then((value) => {\n",
              "    // Cache the last promise value to make it available to the next\n",
              "    // step of the generator.\n",
              "    outputElement.lastPromiseValue = value;\n",
              "    return next.value.response;\n",
              "  });\n",
              "}\n",
              "\n",
              "/**\n",
              " * Generator function which is called between each async step of the upload\n",
              " * process.\n",
              " * @param {string} inputId Element ID of the input file picker element.\n",
              " * @param {string} outputId Element ID of the output display.\n",
              " * @return {!Iterable<!Object>} Iterable of next steps.\n",
              " */\n",
              "function* uploadFilesStep(inputId, outputId) {\n",
              "  const inputElement = document.getElementById(inputId);\n",
              "  inputElement.disabled = false;\n",
              "\n",
              "  const outputElement = document.getElementById(outputId);\n",
              "  outputElement.innerHTML = '';\n",
              "\n",
              "  const pickedPromise = new Promise((resolve) => {\n",
              "    inputElement.addEventListener('change', (e) => {\n",
              "      resolve(e.target.files);\n",
              "    });\n",
              "  });\n",
              "\n",
              "  const cancel = document.createElement('button');\n",
              "  inputElement.parentElement.appendChild(cancel);\n",
              "  cancel.textContent = 'Cancel upload';\n",
              "  const cancelPromise = new Promise((resolve) => {\n",
              "    cancel.onclick = () => {\n",
              "      resolve(null);\n",
              "    };\n",
              "  });\n",
              "\n",
              "  // Wait for the user to pick the files.\n",
              "  const files = yield {\n",
              "    promise: Promise.race([pickedPromise, cancelPromise]),\n",
              "    response: {\n",
              "      action: 'starting',\n",
              "    }\n",
              "  };\n",
              "\n",
              "  cancel.remove();\n",
              "\n",
              "  // Disable the input element since further picks are not allowed.\n",
              "  inputElement.disabled = true;\n",
              "\n",
              "  if (!files) {\n",
              "    return {\n",
              "      response: {\n",
              "        action: 'complete',\n",
              "      }\n",
              "    };\n",
              "  }\n",
              "\n",
              "  for (const file of files) {\n",
              "    const li = document.createElement('li');\n",
              "    li.append(span(file.name, {fontWeight: 'bold'}));\n",
              "    li.append(span(\n",
              "        `(${file.type || 'n/a'}) - ${file.size} bytes, ` +\n",
              "        `last modified: ${\n",
              "            file.lastModifiedDate ? file.lastModifiedDate.toLocaleDateString() :\n",
              "                                    'n/a'} - `));\n",
              "    const percent = span('0% done');\n",
              "    li.appendChild(percent);\n",
              "\n",
              "    outputElement.appendChild(li);\n",
              "\n",
              "    const fileDataPromise = new Promise((resolve) => {\n",
              "      const reader = new FileReader();\n",
              "      reader.onload = (e) => {\n",
              "        resolve(e.target.result);\n",
              "      };\n",
              "      reader.readAsArrayBuffer(file);\n",
              "    });\n",
              "    // Wait for the data to be ready.\n",
              "    let fileData = yield {\n",
              "      promise: fileDataPromise,\n",
              "      response: {\n",
              "        action: 'continue',\n",
              "      }\n",
              "    };\n",
              "\n",
              "    // Use a chunked sending to avoid message size limits. See b/62115660.\n",
              "    let position = 0;\n",
              "    do {\n",
              "      const length = Math.min(fileData.byteLength - position, MAX_PAYLOAD_SIZE);\n",
              "      const chunk = new Uint8Array(fileData, position, length);\n",
              "      position += length;\n",
              "\n",
              "      const base64 = btoa(String.fromCharCode.apply(null, chunk));\n",
              "      yield {\n",
              "        response: {\n",
              "          action: 'append',\n",
              "          file: file.name,\n",
              "          data: base64,\n",
              "        },\n",
              "      };\n",
              "\n",
              "      let percentDone = fileData.byteLength === 0 ?\n",
              "          100 :\n",
              "          Math.round((position / fileData.byteLength) * 100);\n",
              "      percent.textContent = `${percentDone}% done`;\n",
              "\n",
              "    } while (position < fileData.byteLength);\n",
              "  }\n",
              "\n",
              "  // All done.\n",
              "  yield {\n",
              "    response: {\n",
              "      action: 'complete',\n",
              "    }\n",
              "  };\n",
              "}\n",
              "\n",
              "scope.google = scope.google || {};\n",
              "scope.google.colab = scope.google.colab || {};\n",
              "scope.google.colab._files = {\n",
              "  _uploadFiles,\n",
              "  _uploadFilesContinue,\n",
              "};\n",
              "})(self);\n",
              "</script> "
            ]
          },
          "metadata": {}
        },
        {
          "output_type": "stream",
          "name": "stdout",
          "text": [
            "Saving challenge_1_submission_template_correct_columns_fixed (1).csv to challenge_1_submission_template_correct_columns_fixed (1).csv\n"
          ]
        }
      ]
    },
    {
      "cell_type": "code",
      "source": [
        "def combine_two_datasets(dataset1,dataset2):\n",
        "    '''\n",
        "    Returns a  vertically concatenated dataset.\n",
        "    Attributes:\n",
        "    dataset1 - Dataset 1 to be combined\n",
        "    dataset2 - Dataset 2 to be combined\n",
        "    dataset3 - Dataset 3 to be combined\n",
        "    '''\n",
        "    data = pd.concat([dataset1,dataset2], axis=1)\n",
        "    return data"
      ],
      "metadata": {
        "id": "PlCOEDYNge0_"
      },
      "id": "PlCOEDYNge0_",
      "execution_count": null,
      "outputs": []
    },
    {
      "cell_type": "code",
      "execution_count": null,
      "id": "c1fc4682-5a87-4ccb-9b4d-877221e397e9",
      "metadata": {
        "colab": {
          "base_uri": "https://localhost:8080/",
          "height": 206
        },
        "id": "c1fc4682-5a87-4ccb-9b4d-877221e397e9",
        "outputId": "070a1dcb-f294-40fd-c867-c569de9394d9"
      },
      "outputs": [
        {
          "output_type": "execute_result",
          "data": {
            "text/plain": [
              "                                         id  target\n",
              "0   (10.18019073690894, 105.32022315786804)     NaN\n",
              "1  (10.561107033461816, 105.12772097986661)     NaN\n",
              "2  (10.623790611954897, 105.13771401411867)     NaN\n",
              "3  (10.583364246115156, 105.23946127195805)     NaN\n",
              "4   (10.20744446668854, 105.26844107128906)     NaN"
            ],
            "text/html": [
              "\n",
              "  <div id=\"df-6f114a98-88ef-47b0-ab4d-d4ea1e790658\">\n",
              "    <div class=\"colab-df-container\">\n",
              "      <div>\n",
              "<style scoped>\n",
              "    .dataframe tbody tr th:only-of-type {\n",
              "        vertical-align: middle;\n",
              "    }\n",
              "\n",
              "    .dataframe tbody tr th {\n",
              "        vertical-align: top;\n",
              "    }\n",
              "\n",
              "    .dataframe thead th {\n",
              "        text-align: right;\n",
              "    }\n",
              "</style>\n",
              "<table border=\"1\" class=\"dataframe\">\n",
              "  <thead>\n",
              "    <tr style=\"text-align: right;\">\n",
              "      <th></th>\n",
              "      <th>id</th>\n",
              "      <th>target</th>\n",
              "    </tr>\n",
              "  </thead>\n",
              "  <tbody>\n",
              "    <tr>\n",
              "      <th>0</th>\n",
              "      <td>(10.18019073690894, 105.32022315786804)</td>\n",
              "      <td>NaN</td>\n",
              "    </tr>\n",
              "    <tr>\n",
              "      <th>1</th>\n",
              "      <td>(10.561107033461816, 105.12772097986661)</td>\n",
              "      <td>NaN</td>\n",
              "    </tr>\n",
              "    <tr>\n",
              "      <th>2</th>\n",
              "      <td>(10.623790611954897, 105.13771401411867)</td>\n",
              "      <td>NaN</td>\n",
              "    </tr>\n",
              "    <tr>\n",
              "      <th>3</th>\n",
              "      <td>(10.583364246115156, 105.23946127195805)</td>\n",
              "      <td>NaN</td>\n",
              "    </tr>\n",
              "    <tr>\n",
              "      <th>4</th>\n",
              "      <td>(10.20744446668854, 105.26844107128906)</td>\n",
              "      <td>NaN</td>\n",
              "    </tr>\n",
              "  </tbody>\n",
              "</table>\n",
              "</div>\n",
              "      <button class=\"colab-df-convert\" onclick=\"convertToInteractive('df-6f114a98-88ef-47b0-ab4d-d4ea1e790658')\"\n",
              "              title=\"Convert this dataframe to an interactive table.\"\n",
              "              style=\"display:none;\">\n",
              "        \n",
              "  <svg xmlns=\"http://www.w3.org/2000/svg\" height=\"24px\"viewBox=\"0 0 24 24\"\n",
              "       width=\"24px\">\n",
              "    <path d=\"M0 0h24v24H0V0z\" fill=\"none\"/>\n",
              "    <path d=\"M18.56 5.44l.94 2.06.94-2.06 2.06-.94-2.06-.94-.94-2.06-.94 2.06-2.06.94zm-11 1L8.5 8.5l.94-2.06 2.06-.94-2.06-.94L8.5 2.5l-.94 2.06-2.06.94zm10 10l.94 2.06.94-2.06 2.06-.94-2.06-.94-.94-2.06-.94 2.06-2.06.94z\"/><path d=\"M17.41 7.96l-1.37-1.37c-.4-.4-.92-.59-1.43-.59-.52 0-1.04.2-1.43.59L10.3 9.45l-7.72 7.72c-.78.78-.78 2.05 0 2.83L4 21.41c.39.39.9.59 1.41.59.51 0 1.02-.2 1.41-.59l7.78-7.78 2.81-2.81c.8-.78.8-2.07 0-2.86zM5.41 20L4 18.59l7.72-7.72 1.47 1.35L5.41 20z\"/>\n",
              "  </svg>\n",
              "      </button>\n",
              "      \n",
              "  <style>\n",
              "    .colab-df-container {\n",
              "      display:flex;\n",
              "      flex-wrap:wrap;\n",
              "      gap: 12px;\n",
              "    }\n",
              "\n",
              "    .colab-df-convert {\n",
              "      background-color: #E8F0FE;\n",
              "      border: none;\n",
              "      border-radius: 50%;\n",
              "      cursor: pointer;\n",
              "      display: none;\n",
              "      fill: #1967D2;\n",
              "      height: 32px;\n",
              "      padding: 0 0 0 0;\n",
              "      width: 32px;\n",
              "    }\n",
              "\n",
              "    .colab-df-convert:hover {\n",
              "      background-color: #E2EBFA;\n",
              "      box-shadow: 0px 1px 2px rgba(60, 64, 67, 0.3), 0px 1px 3px 1px rgba(60, 64, 67, 0.15);\n",
              "      fill: #174EA6;\n",
              "    }\n",
              "\n",
              "    [theme=dark] .colab-df-convert {\n",
              "      background-color: #3B4455;\n",
              "      fill: #D2E3FC;\n",
              "    }\n",
              "\n",
              "    [theme=dark] .colab-df-convert:hover {\n",
              "      background-color: #434B5C;\n",
              "      box-shadow: 0px 1px 3px 1px rgba(0, 0, 0, 0.15);\n",
              "      filter: drop-shadow(0px 1px 2px rgba(0, 0, 0, 0.3));\n",
              "      fill: #FFFFFF;\n",
              "    }\n",
              "  </style>\n",
              "\n",
              "      <script>\n",
              "        const buttonEl =\n",
              "          document.querySelector('#df-6f114a98-88ef-47b0-ab4d-d4ea1e790658 button.colab-df-convert');\n",
              "        buttonEl.style.display =\n",
              "          google.colab.kernel.accessAllowed ? 'block' : 'none';\n",
              "\n",
              "        async function convertToInteractive(key) {\n",
              "          const element = document.querySelector('#df-6f114a98-88ef-47b0-ab4d-d4ea1e790658');\n",
              "          const dataTable =\n",
              "            await google.colab.kernel.invokeFunction('convertToInteractive',\n",
              "                                                     [key], {});\n",
              "          if (!dataTable) return;\n",
              "\n",
              "          const docLinkHtml = 'Like what you see? Visit the ' +\n",
              "            '<a target=\"_blank\" href=https://colab.research.google.com/notebooks/data_table.ipynb>data table notebook</a>'\n",
              "            + ' to learn more about interactive tables.';\n",
              "          element.innerHTML = '';\n",
              "          dataTable['output_type'] = 'display_data';\n",
              "          await google.colab.output.renderOutput(dataTable, element);\n",
              "          const docLink = document.createElement('div');\n",
              "          docLink.innerHTML = docLinkHtml;\n",
              "          element.appendChild(docLink);\n",
              "        }\n",
              "      </script>\n",
              "    </div>\n",
              "  </div>\n",
              "  "
            ]
          },
          "metadata": {},
          "execution_count": 74
        }
      ],
      "source": [
        "#Reading the coordinates for the submission\n",
        "test_file = pd.read_csv('challenge_1_submission_template_correct_columns_fixed (1).csv')\n",
        "test_file.head()"
      ]
    },
    {
      "cell_type": "code",
      "execution_count": null,
      "id": "c0c5e29a-3bfa-4f5e-ac00-ffbf6b18033e",
      "metadata": {
        "id": "c0c5e29a-3bfa-4f5e-ac00-ffbf6b18033e",
        "colab": {
          "base_uri": "https://localhost:8080/"
        },
        "outputId": "c8f44fa5-5bab-4d83-8f3d-9c7711626200"
      },
      "outputs": [
        {
          "output_type": "stream",
          "name": "stderr",
          "text": [
            "100%|██████████| 250/250 [07:04<00:00,  1.70s/it]\n"
          ]
        }
      ],
      "source": [
        "## Get Sentinel-1-RTC Data\n",
        "time_slice = \"2021-04-01/2021-04-10\"\n",
        "assests = ['vh','vv']\n",
        "vh_vv_riv = []\n",
        "for coordinates in tqdm(test_file['id']):\n",
        "    vh_vv_riv.append(get_sentinel_data(coordinates,time_slice,assests))\n",
        "vh_vv_rvi_data = pd.DataFrame(vh_vv_riv,columns =['vh','vv', 'rvi'])\n",
        "\n"
      ]
    },
    {
      "cell_type": "code",
      "source": [
        "time_slice1 = \"2021-01-01/2021-01-08\"\n",
        "assets1 = ['red','green', 'blue', 'nir']\n",
        "mar_bands_set = []\n",
        "for coordinates in tqdm(test_file['id']):\n",
        "    mar_bands_set.append(get_sentinel2_data(coordinates,time_slice1,assets1))\n",
        "S2_data = pd.DataFrame(mar_bands_set,columns =['red','green', 'blue', 'nir', 'NDVI', 'EVI', 'NDWI'])\n",
        "\n"
      ],
      "metadata": {
        "colab": {
          "base_uri": "https://localhost:8080/"
        },
        "id": "Y8UQUV6Ynygw",
        "outputId": "9ed58351-17d7-4d51-b2fb-f157c579a795"
      },
      "id": "Y8UQUV6Ynygw",
      "execution_count": null,
      "outputs": [
        {
          "output_type": "stream",
          "name": "stderr",
          "text": [
            "100%|██████████| 250/250 [11:42<00:00,  2.81s/it]\n"
          ]
        }
      ]
    },
    {
      "cell_type": "code",
      "source": [
        "submission_vh_vv_data = combine_two_datasets(S2_data, vh_vv_rvi_data)\n"
      ],
      "metadata": {
        "id": "pGaPXcAEoCut"
      },
      "id": "pGaPXcAEoCut",
      "execution_count": null,
      "outputs": []
    },
    {
      "cell_type": "code",
      "source": [
        "submission_vh_vv_data = submission_vh_vv_data[['green', 'nir', 'NDVI', 'EVI', 'NDWI', 'vh', 'vv', 'rvi']]"
      ],
      "metadata": {
        "id": "QTKdk5DSp_wm"
      },
      "id": "QTKdk5DSp_wm",
      "execution_count": null,
      "outputs": []
    },
    {
      "cell_type": "code",
      "execution_count": null,
      "id": "08b02ce9-ef4b-4e96-b895-cabca85f2860",
      "metadata": {
        "id": "08b02ce9-ef4b-4e96-b895-cabca85f2860",
        "colab": {
          "base_uri": "https://localhost:8080/",
          "height": 206
        },
        "outputId": "c4b39001-45cd-441f-c157-6edfe636ae7f"
      },
      "outputs": [
        {
          "output_type": "execute_result",
          "data": {
            "text/plain": [
              "         green          nir      NDVI       EVI      NDWI        vh        vv  \\\n",
              "0  8365.986551  8603.422997  0.057047 -0.172192 -0.013992  0.022603  0.160415   \n",
              "1   573.563681   622.993557  0.077552 -0.306942 -0.041310  0.023093  0.083714   \n",
              "2    75.427244    79.778022  0.058583 -0.244422 -0.028032  0.040087  0.080690   \n",
              "3  7823.494495  7174.462160 -0.005407  0.014318  0.043275  0.004060  0.015299   \n",
              "4  8400.723738  8404.501226  0.045168 -0.127328 -0.000225  0.010877  0.082105   \n",
              "\n",
              "        rvi  \n",
              "0  0.462500  \n",
              "1  0.765669  \n",
              "2  1.085167  \n",
              "3  0.745714  \n",
              "4  0.439688  "
            ],
            "text/html": [
              "\n",
              "  <div id=\"df-eb49c2d2-91b9-4851-ab73-51303f6ac0fa\">\n",
              "    <div class=\"colab-df-container\">\n",
              "      <div>\n",
              "<style scoped>\n",
              "    .dataframe tbody tr th:only-of-type {\n",
              "        vertical-align: middle;\n",
              "    }\n",
              "\n",
              "    .dataframe tbody tr th {\n",
              "        vertical-align: top;\n",
              "    }\n",
              "\n",
              "    .dataframe thead th {\n",
              "        text-align: right;\n",
              "    }\n",
              "</style>\n",
              "<table border=\"1\" class=\"dataframe\">\n",
              "  <thead>\n",
              "    <tr style=\"text-align: right;\">\n",
              "      <th></th>\n",
              "      <th>green</th>\n",
              "      <th>nir</th>\n",
              "      <th>NDVI</th>\n",
              "      <th>EVI</th>\n",
              "      <th>NDWI</th>\n",
              "      <th>vh</th>\n",
              "      <th>vv</th>\n",
              "      <th>rvi</th>\n",
              "    </tr>\n",
              "  </thead>\n",
              "  <tbody>\n",
              "    <tr>\n",
              "      <th>0</th>\n",
              "      <td>8365.986551</td>\n",
              "      <td>8603.422997</td>\n",
              "      <td>0.057047</td>\n",
              "      <td>-0.172192</td>\n",
              "      <td>-0.013992</td>\n",
              "      <td>0.022603</td>\n",
              "      <td>0.160415</td>\n",
              "      <td>0.462500</td>\n",
              "    </tr>\n",
              "    <tr>\n",
              "      <th>1</th>\n",
              "      <td>573.563681</td>\n",
              "      <td>622.993557</td>\n",
              "      <td>0.077552</td>\n",
              "      <td>-0.306942</td>\n",
              "      <td>-0.041310</td>\n",
              "      <td>0.023093</td>\n",
              "      <td>0.083714</td>\n",
              "      <td>0.765669</td>\n",
              "    </tr>\n",
              "    <tr>\n",
              "      <th>2</th>\n",
              "      <td>75.427244</td>\n",
              "      <td>79.778022</td>\n",
              "      <td>0.058583</td>\n",
              "      <td>-0.244422</td>\n",
              "      <td>-0.028032</td>\n",
              "      <td>0.040087</td>\n",
              "      <td>0.080690</td>\n",
              "      <td>1.085167</td>\n",
              "    </tr>\n",
              "    <tr>\n",
              "      <th>3</th>\n",
              "      <td>7823.494495</td>\n",
              "      <td>7174.462160</td>\n",
              "      <td>-0.005407</td>\n",
              "      <td>0.014318</td>\n",
              "      <td>0.043275</td>\n",
              "      <td>0.004060</td>\n",
              "      <td>0.015299</td>\n",
              "      <td>0.745714</td>\n",
              "    </tr>\n",
              "    <tr>\n",
              "      <th>4</th>\n",
              "      <td>8400.723738</td>\n",
              "      <td>8404.501226</td>\n",
              "      <td>0.045168</td>\n",
              "      <td>-0.127328</td>\n",
              "      <td>-0.000225</td>\n",
              "      <td>0.010877</td>\n",
              "      <td>0.082105</td>\n",
              "      <td>0.439688</td>\n",
              "    </tr>\n",
              "  </tbody>\n",
              "</table>\n",
              "</div>\n",
              "      <button class=\"colab-df-convert\" onclick=\"convertToInteractive('df-eb49c2d2-91b9-4851-ab73-51303f6ac0fa')\"\n",
              "              title=\"Convert this dataframe to an interactive table.\"\n",
              "              style=\"display:none;\">\n",
              "        \n",
              "  <svg xmlns=\"http://www.w3.org/2000/svg\" height=\"24px\"viewBox=\"0 0 24 24\"\n",
              "       width=\"24px\">\n",
              "    <path d=\"M0 0h24v24H0V0z\" fill=\"none\"/>\n",
              "    <path d=\"M18.56 5.44l.94 2.06.94-2.06 2.06-.94-2.06-.94-.94-2.06-.94 2.06-2.06.94zm-11 1L8.5 8.5l.94-2.06 2.06-.94-2.06-.94L8.5 2.5l-.94 2.06-2.06.94zm10 10l.94 2.06.94-2.06 2.06-.94-2.06-.94-.94-2.06-.94 2.06-2.06.94z\"/><path d=\"M17.41 7.96l-1.37-1.37c-.4-.4-.92-.59-1.43-.59-.52 0-1.04.2-1.43.59L10.3 9.45l-7.72 7.72c-.78.78-.78 2.05 0 2.83L4 21.41c.39.39.9.59 1.41.59.51 0 1.02-.2 1.41-.59l7.78-7.78 2.81-2.81c.8-.78.8-2.07 0-2.86zM5.41 20L4 18.59l7.72-7.72 1.47 1.35L5.41 20z\"/>\n",
              "  </svg>\n",
              "      </button>\n",
              "      \n",
              "  <style>\n",
              "    .colab-df-container {\n",
              "      display:flex;\n",
              "      flex-wrap:wrap;\n",
              "      gap: 12px;\n",
              "    }\n",
              "\n",
              "    .colab-df-convert {\n",
              "      background-color: #E8F0FE;\n",
              "      border: none;\n",
              "      border-radius: 50%;\n",
              "      cursor: pointer;\n",
              "      display: none;\n",
              "      fill: #1967D2;\n",
              "      height: 32px;\n",
              "      padding: 0 0 0 0;\n",
              "      width: 32px;\n",
              "    }\n",
              "\n",
              "    .colab-df-convert:hover {\n",
              "      background-color: #E2EBFA;\n",
              "      box-shadow: 0px 1px 2px rgba(60, 64, 67, 0.3), 0px 1px 3px 1px rgba(60, 64, 67, 0.15);\n",
              "      fill: #174EA6;\n",
              "    }\n",
              "\n",
              "    [theme=dark] .colab-df-convert {\n",
              "      background-color: #3B4455;\n",
              "      fill: #D2E3FC;\n",
              "    }\n",
              "\n",
              "    [theme=dark] .colab-df-convert:hover {\n",
              "      background-color: #434B5C;\n",
              "      box-shadow: 0px 1px 3px 1px rgba(0, 0, 0, 0.15);\n",
              "      filter: drop-shadow(0px 1px 2px rgba(0, 0, 0, 0.3));\n",
              "      fill: #FFFFFF;\n",
              "    }\n",
              "  </style>\n",
              "\n",
              "      <script>\n",
              "        const buttonEl =\n",
              "          document.querySelector('#df-eb49c2d2-91b9-4851-ab73-51303f6ac0fa button.colab-df-convert');\n",
              "        buttonEl.style.display =\n",
              "          google.colab.kernel.accessAllowed ? 'block' : 'none';\n",
              "\n",
              "        async function convertToInteractive(key) {\n",
              "          const element = document.querySelector('#df-eb49c2d2-91b9-4851-ab73-51303f6ac0fa');\n",
              "          const dataTable =\n",
              "            await google.colab.kernel.invokeFunction('convertToInteractive',\n",
              "                                                     [key], {});\n",
              "          if (!dataTable) return;\n",
              "\n",
              "          const docLinkHtml = 'Like what you see? Visit the ' +\n",
              "            '<a target=\"_blank\" href=https://colab.research.google.com/notebooks/data_table.ipynb>data table notebook</a>'\n",
              "            + ' to learn more about interactive tables.';\n",
              "          element.innerHTML = '';\n",
              "          dataTable['output_type'] = 'display_data';\n",
              "          await google.colab.output.renderOutput(dataTable, element);\n",
              "          const docLink = document.createElement('div');\n",
              "          docLink.innerHTML = docLinkHtml;\n",
              "          element.appendChild(docLink);\n",
              "        }\n",
              "      </script>\n",
              "    </div>\n",
              "  </div>\n",
              "  "
            ]
          },
          "metadata": {},
          "execution_count": 79
        }
      ],
      "source": [
        "submission_vh_vv_data.head()"
      ]
    },
    {
      "cell_type": "code",
      "execution_count": null,
      "id": "2cb45aca-974a-41e1-a522-36ca202d9af5",
      "metadata": {
        "id": "2cb45aca-974a-41e1-a522-36ca202d9af5"
      },
      "outputs": [],
      "source": [
        "# Feature Scaling\n",
        "scaled_submission_data = sc.transform(submission_vh_vv_data)\n"
      ]
    },
    {
      "cell_type": "code",
      "execution_count": null,
      "id": "ecc34e3a-bfc1-49a0-94bb-ee1e540abe98",
      "metadata": {
        "id": "ecc34e3a-bfc1-49a0-94bb-ee1e540abe98"
      },
      "outputs": [],
      "source": [
        "#Making predictions\n",
        "final_predictions = clf.predict(scaled_submission_data)\n",
        "final_prediction_series = pd.Series(final_predictions)"
      ]
    },
    {
      "cell_type": "code",
      "execution_count": null,
      "id": "0375e4cd-fdb0-4b82-8508-6ff022061cf9",
      "metadata": {
        "id": "0375e4cd-fdb0-4b82-8508-6ff022061cf9"
      },
      "outputs": [],
      "source": [
        "#Combining the results into dataframe\n",
        "submission_df = pd.DataFrame({'Latitude and Longitude':test_file['id'].values, 'Class of Land':final_prediction_series.values})"
      ]
    },
    {
      "cell_type": "code",
      "execution_count": null,
      "id": "1a1a563b-c0ed-4e2c-a7fe-08ad59cf1626",
      "metadata": {
        "id": "1a1a563b-c0ed-4e2c-a7fe-08ad59cf1626",
        "colab": {
          "base_uri": "https://localhost:8080/",
          "height": 423
        },
        "outputId": "21654d41-281f-420a-a3b8-79965ed16b7d"
      },
      "outputs": [
        {
          "output_type": "display_data",
          "data": {
            "text/plain": [
              "                       Latitude and Longitude Class of Land\n",
              "0     (10.18019073690894, 105.32022315786804)      Non Rice\n",
              "1    (10.561107033461816, 105.12772097986661)      Non Rice\n",
              "2    (10.623790611954897, 105.13771401411867)      Non Rice\n",
              "3    (10.583364246115156, 105.23946127195805)          Rice\n",
              "4     (10.20744446668854, 105.26844107128906)      Non Rice\n",
              "..                                        ...           ...\n",
              "245  (10.308283266873062, 105.50872812216863)      Non Rice\n",
              "246  (10.582910017285496, 105.23991550078767)          Rice\n",
              "247  (10.581547330796518, 105.23991550078767)          Rice\n",
              "248  (10.629241357910818, 105.15315779432643)          Rice\n",
              "249  (10.574733898351617, 105.10410108072531)      Non Rice\n",
              "\n",
              "[250 rows x 2 columns]"
            ],
            "text/html": [
              "\n",
              "  <div id=\"df-763ca21f-8057-4161-a901-bdaf61b157d3\">\n",
              "    <div class=\"colab-df-container\">\n",
              "      <div>\n",
              "<style scoped>\n",
              "    .dataframe tbody tr th:only-of-type {\n",
              "        vertical-align: middle;\n",
              "    }\n",
              "\n",
              "    .dataframe tbody tr th {\n",
              "        vertical-align: top;\n",
              "    }\n",
              "\n",
              "    .dataframe thead th {\n",
              "        text-align: right;\n",
              "    }\n",
              "</style>\n",
              "<table border=\"1\" class=\"dataframe\">\n",
              "  <thead>\n",
              "    <tr style=\"text-align: right;\">\n",
              "      <th></th>\n",
              "      <th>Latitude and Longitude</th>\n",
              "      <th>Class of Land</th>\n",
              "    </tr>\n",
              "  </thead>\n",
              "  <tbody>\n",
              "    <tr>\n",
              "      <th>0</th>\n",
              "      <td>(10.18019073690894, 105.32022315786804)</td>\n",
              "      <td>Non Rice</td>\n",
              "    </tr>\n",
              "    <tr>\n",
              "      <th>1</th>\n",
              "      <td>(10.561107033461816, 105.12772097986661)</td>\n",
              "      <td>Non Rice</td>\n",
              "    </tr>\n",
              "    <tr>\n",
              "      <th>2</th>\n",
              "      <td>(10.623790611954897, 105.13771401411867)</td>\n",
              "      <td>Non Rice</td>\n",
              "    </tr>\n",
              "    <tr>\n",
              "      <th>3</th>\n",
              "      <td>(10.583364246115156, 105.23946127195805)</td>\n",
              "      <td>Rice</td>\n",
              "    </tr>\n",
              "    <tr>\n",
              "      <th>4</th>\n",
              "      <td>(10.20744446668854, 105.26844107128906)</td>\n",
              "      <td>Non Rice</td>\n",
              "    </tr>\n",
              "    <tr>\n",
              "      <th>...</th>\n",
              "      <td>...</td>\n",
              "      <td>...</td>\n",
              "    </tr>\n",
              "    <tr>\n",
              "      <th>245</th>\n",
              "      <td>(10.308283266873062, 105.50872812216863)</td>\n",
              "      <td>Non Rice</td>\n",
              "    </tr>\n",
              "    <tr>\n",
              "      <th>246</th>\n",
              "      <td>(10.582910017285496, 105.23991550078767)</td>\n",
              "      <td>Rice</td>\n",
              "    </tr>\n",
              "    <tr>\n",
              "      <th>247</th>\n",
              "      <td>(10.581547330796518, 105.23991550078767)</td>\n",
              "      <td>Rice</td>\n",
              "    </tr>\n",
              "    <tr>\n",
              "      <th>248</th>\n",
              "      <td>(10.629241357910818, 105.15315779432643)</td>\n",
              "      <td>Rice</td>\n",
              "    </tr>\n",
              "    <tr>\n",
              "      <th>249</th>\n",
              "      <td>(10.574733898351617, 105.10410108072531)</td>\n",
              "      <td>Non Rice</td>\n",
              "    </tr>\n",
              "  </tbody>\n",
              "</table>\n",
              "<p>250 rows × 2 columns</p>\n",
              "</div>\n",
              "      <button class=\"colab-df-convert\" onclick=\"convertToInteractive('df-763ca21f-8057-4161-a901-bdaf61b157d3')\"\n",
              "              title=\"Convert this dataframe to an interactive table.\"\n",
              "              style=\"display:none;\">\n",
              "        \n",
              "  <svg xmlns=\"http://www.w3.org/2000/svg\" height=\"24px\"viewBox=\"0 0 24 24\"\n",
              "       width=\"24px\">\n",
              "    <path d=\"M0 0h24v24H0V0z\" fill=\"none\"/>\n",
              "    <path d=\"M18.56 5.44l.94 2.06.94-2.06 2.06-.94-2.06-.94-.94-2.06-.94 2.06-2.06.94zm-11 1L8.5 8.5l.94-2.06 2.06-.94-2.06-.94L8.5 2.5l-.94 2.06-2.06.94zm10 10l.94 2.06.94-2.06 2.06-.94-2.06-.94-.94-2.06-.94 2.06-2.06.94z\"/><path d=\"M17.41 7.96l-1.37-1.37c-.4-.4-.92-.59-1.43-.59-.52 0-1.04.2-1.43.59L10.3 9.45l-7.72 7.72c-.78.78-.78 2.05 0 2.83L4 21.41c.39.39.9.59 1.41.59.51 0 1.02-.2 1.41-.59l7.78-7.78 2.81-2.81c.8-.78.8-2.07 0-2.86zM5.41 20L4 18.59l7.72-7.72 1.47 1.35L5.41 20z\"/>\n",
              "  </svg>\n",
              "      </button>\n",
              "      \n",
              "  <style>\n",
              "    .colab-df-container {\n",
              "      display:flex;\n",
              "      flex-wrap:wrap;\n",
              "      gap: 12px;\n",
              "    }\n",
              "\n",
              "    .colab-df-convert {\n",
              "      background-color: #E8F0FE;\n",
              "      border: none;\n",
              "      border-radius: 50%;\n",
              "      cursor: pointer;\n",
              "      display: none;\n",
              "      fill: #1967D2;\n",
              "      height: 32px;\n",
              "      padding: 0 0 0 0;\n",
              "      width: 32px;\n",
              "    }\n",
              "\n",
              "    .colab-df-convert:hover {\n",
              "      background-color: #E2EBFA;\n",
              "      box-shadow: 0px 1px 2px rgba(60, 64, 67, 0.3), 0px 1px 3px 1px rgba(60, 64, 67, 0.15);\n",
              "      fill: #174EA6;\n",
              "    }\n",
              "\n",
              "    [theme=dark] .colab-df-convert {\n",
              "      background-color: #3B4455;\n",
              "      fill: #D2E3FC;\n",
              "    }\n",
              "\n",
              "    [theme=dark] .colab-df-convert:hover {\n",
              "      background-color: #434B5C;\n",
              "      box-shadow: 0px 1px 3px 1px rgba(0, 0, 0, 0.15);\n",
              "      filter: drop-shadow(0px 1px 2px rgba(0, 0, 0, 0.3));\n",
              "      fill: #FFFFFF;\n",
              "    }\n",
              "  </style>\n",
              "\n",
              "      <script>\n",
              "        const buttonEl =\n",
              "          document.querySelector('#df-763ca21f-8057-4161-a901-bdaf61b157d3 button.colab-df-convert');\n",
              "        buttonEl.style.display =\n",
              "          google.colab.kernel.accessAllowed ? 'block' : 'none';\n",
              "\n",
              "        async function convertToInteractive(key) {\n",
              "          const element = document.querySelector('#df-763ca21f-8057-4161-a901-bdaf61b157d3');\n",
              "          const dataTable =\n",
              "            await google.colab.kernel.invokeFunction('convertToInteractive',\n",
              "                                                     [key], {});\n",
              "          if (!dataTable) return;\n",
              "\n",
              "          const docLinkHtml = 'Like what you see? Visit the ' +\n",
              "            '<a target=\"_blank\" href=https://colab.research.google.com/notebooks/data_table.ipynb>data table notebook</a>'\n",
              "            + ' to learn more about interactive tables.';\n",
              "          element.innerHTML = '';\n",
              "          dataTable['output_type'] = 'display_data';\n",
              "          await google.colab.output.renderOutput(dataTable, element);\n",
              "          const docLink = document.createElement('div');\n",
              "          docLink.innerHTML = docLinkHtml;\n",
              "          element.appendChild(docLink);\n",
              "        }\n",
              "      </script>\n",
              "    </div>\n",
              "  </div>\n",
              "  "
            ]
          },
          "metadata": {}
        }
      ],
      "source": [
        "#Displaying the sample submission dataframe\n",
        "display(submission_df)"
      ]
    },
    {
      "cell_type": "code",
      "execution_count": null,
      "id": "2fcec864-4da3-41e7-80da-b77e42a9d810",
      "metadata": {
        "id": "2fcec864-4da3-41e7-80da-b77e42a9d810"
      },
      "outputs": [],
      "source": [
        "#Dumping the predictions into a csv file.\n",
        "submission_df.to_csv(\"rice_prediction_clf.csv\",index = False)"
      ]
    },
    {
      "cell_type": "code",
      "source": [
        "files.download('rice_prediction_clf.csv')"
      ],
      "metadata": {
        "colab": {
          "base_uri": "https://localhost:8080/",
          "height": 17
        },
        "id": "6WpVyeCSsCpU",
        "outputId": "1e0a9a95-4d42-47d9-db4d-07067a6c7fdd"
      },
      "id": "6WpVyeCSsCpU",
      "execution_count": null,
      "outputs": [
        {
          "output_type": "display_data",
          "data": {
            "text/plain": [
              "<IPython.core.display.Javascript object>"
            ],
            "application/javascript": [
              "\n",
              "    async function download(id, filename, size) {\n",
              "      if (!google.colab.kernel.accessAllowed) {\n",
              "        return;\n",
              "      }\n",
              "      const div = document.createElement('div');\n",
              "      const label = document.createElement('label');\n",
              "      label.textContent = `Downloading \"${filename}\": `;\n",
              "      div.appendChild(label);\n",
              "      const progress = document.createElement('progress');\n",
              "      progress.max = size;\n",
              "      div.appendChild(progress);\n",
              "      document.body.appendChild(div);\n",
              "\n",
              "      const buffers = [];\n",
              "      let downloaded = 0;\n",
              "\n",
              "      const channel = await google.colab.kernel.comms.open(id);\n",
              "      // Send a message to notify the kernel that we're ready.\n",
              "      channel.send({})\n",
              "\n",
              "      for await (const message of channel.messages) {\n",
              "        // Send a message to notify the kernel that we're ready.\n",
              "        channel.send({})\n",
              "        if (message.buffers) {\n",
              "          for (const buffer of message.buffers) {\n",
              "            buffers.push(buffer);\n",
              "            downloaded += buffer.byteLength;\n",
              "            progress.value = downloaded;\n",
              "          }\n",
              "        }\n",
              "      }\n",
              "      const blob = new Blob(buffers, {type: 'application/binary'});\n",
              "      const a = document.createElement('a');\n",
              "      a.href = window.URL.createObjectURL(blob);\n",
              "      a.download = filename;\n",
              "      div.appendChild(a);\n",
              "      a.click();\n",
              "      div.remove();\n",
              "    }\n",
              "  "
            ]
          },
          "metadata": {}
        },
        {
          "output_type": "display_data",
          "data": {
            "text/plain": [
              "<IPython.core.display.Javascript object>"
            ],
            "application/javascript": [
              "download(\"download_9e31f75d-f0a5-473f-88e2-00e5546f6e3a\", \"rice_prediction_clf.csv\", 12686)"
            ]
          },
          "metadata": {}
        }
      ]
    }
  ],
  "metadata": {
    "kernelspec": {
      "display_name": "Python 3 (ipykernel)",
      "language": "python",
      "name": "python3"
    },
    "language_info": {
      "codemirror_mode": {
        "name": "ipython",
        "version": 3
      },
      "file_extension": ".py",
      "mimetype": "text/x-python",
      "name": "python",
      "nbconvert_exporter": "python",
      "pygments_lexer": "ipython3",
      "version": "3.9.12"
    },
    "colab": {
      "provenance": []
    }
  },
  "nbformat": 4,
  "nbformat_minor": 5
}